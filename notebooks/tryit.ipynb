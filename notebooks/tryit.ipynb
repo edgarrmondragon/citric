{
 "cells": [
  {
   "cell_type": "code",
   "execution_count": null,
   "id": "586edf3b-741b-4c11-bb52-fafa18feec1d",
   "metadata": {},
   "outputs": [],
   "source": [
    "import os\n",
    "import citric\n",
    "\n",
    "from IPython.display import HTML"
   ]
  },
  {
   "cell_type": "code",
   "execution_count": null,
   "id": "2598031b-31be-4975-b2db-0ebb20d87b28",
   "metadata": {},
   "outputs": [],
   "source": [
    "citric.__version__"
   ]
  },
  {
   "cell_type": "code",
   "execution_count": null,
   "id": "97821189",
   "metadata": {},
   "outputs": [],
   "source": [
    "LS_URL = os.environ[\"LIMESURVEY_URL\"]\n",
    "LS_USERNAME = os.environ[\"LIMESURVEY_USERNAME\"]\n",
    "LS_PASSWORD = os.environ[\"LIMESURVEY_PASSWORD\"]"
   ]
  },
  {
   "cell_type": "code",
   "execution_count": null,
   "id": "fb0699d9-4405-4645-a331-19bc96ad6671",
   "metadata": {},
   "outputs": [],
   "source": [
    "with citric.Client(LS_URL, LS_USERNAME, LS_PASSWORD) as client:\n",
    "    surveys = client.list_surveys()\n",
    "\n",
    "    for survey in surveys:\n",
    "        questions = client.list_questions(survey[\"sid\"])\n",
    "\n",
    "        for question in questions:\n",
    "            display(HTML(question[\"question\"]))\n",
    "            display(HTML(question[\"help\"]))"
   ]
  },
  {
   "cell_type": "code",
   "execution_count": null,
   "id": "0be47c6a-d219-4828-b92d-8f5f6763a4ca",
   "metadata": {},
   "outputs": [],
   "source": [
    "from xml.etree import ElementTree\n",
    "\n",
    "tree = ElementTree.parse(\"../examples/free_text.lsq\")\n",
    "\n",
    "for fieldname in tree.find(\"questions\").find(\"fields\").findall(\"fieldname\"):\n",
    "    display(fieldname.text)\n",
    "    \n",
    "for entry in tree.find(\"questions\").find(\"rows\").find(\"row\"):\n",
    "    display(f\"{entry.tag} = {entry.text}\")"
   ]
  },
  {
   "cell_type": "code",
   "execution_count": null,
   "id": "ff8ebcc5-5681-44bb-953f-891ccd7ece3d",
   "metadata": {},
   "outputs": [],
   "source": []
  }
 ],
 "metadata": {
  "kernelspec": {
   "display_name": "Python 3 (ipykernel)",
   "language": "python",
   "name": "python3"
  },
  "language_info": {
   "codemirror_mode": {
    "name": "ipython",
    "version": 3
   },
   "file_extension": ".py",
   "mimetype": "text/x-python",
   "name": "python",
   "nbconvert_exporter": "python",
   "pygments_lexer": "ipython3",
   "version": "3.9.10"
  }
 },
 "nbformat": 4,
 "nbformat_minor": 5
}
