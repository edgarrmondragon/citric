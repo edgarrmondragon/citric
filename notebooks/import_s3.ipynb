{
 "cells": [
  {
   "cell_type": "markdown",
   "id": "dbbc7b33-12c5-4d89-90ca-860326c7cc6e",
   "metadata": {},
   "source": [
    "# Import a survey file from S3"
   ]
  },
  {
   "cell_type": "code",
   "execution_count": 1,
   "id": "8fb76dba-d52e-48af-b5d6-1a17783fa0b5",
   "metadata": {},
   "outputs": [
    {
     "name": "stdout",
     "output_type": "stream",
     "text": [
      "Requirement already satisfied: pip in /root/.cache/pypoetry/virtualenvs/citric-9TtSrW0h-py3.9/lib/python3.9/site-packages (21.3.1)\n",
      "Collecting pip\n",
      "  Using cached pip-22.0.2-py3-none-any.whl (2.1 MB)\n",
      "Collecting boto3\n",
      "  Using cached boto3-1.20.47-py3-none-any.whl (131 kB)\n",
      "Requirement already satisfied: s3transfer<0.6.0,>=0.5.0 in /root/.cache/pypoetry/virtualenvs/citric-9TtSrW0h-py3.9/lib/python3.9/site-packages (from boto3) (0.5.1)\n",
      "Requirement already satisfied: botocore<1.24.0,>=1.23.47 in /root/.cache/pypoetry/virtualenvs/citric-9TtSrW0h-py3.9/lib/python3.9/site-packages (from boto3) (1.23.47)\n",
      "Requirement already satisfied: jmespath<1.0.0,>=0.7.1 in /root/.cache/pypoetry/virtualenvs/citric-9TtSrW0h-py3.9/lib/python3.9/site-packages (from boto3) (0.10.0)\n",
      "Requirement already satisfied: python-dateutil<3.0.0,>=2.1 in /root/.cache/pypoetry/virtualenvs/citric-9TtSrW0h-py3.9/lib/python3.9/site-packages (from botocore<1.24.0,>=1.23.47->boto3) (2.8.2)\n",
      "Requirement already satisfied: urllib3<1.27,>=1.25.4 in /root/.cache/pypoetry/virtualenvs/citric-9TtSrW0h-py3.9/lib/python3.9/site-packages (from botocore<1.24.0,>=1.23.47->boto3) (1.26.8)\n",
      "Requirement already satisfied: six>=1.5 in /root/.cache/pypoetry/virtualenvs/citric-9TtSrW0h-py3.9/lib/python3.9/site-packages (from python-dateutil<3.0.0,>=2.1->botocore<1.24.0,>=1.23.47->boto3) (1.16.0)\n",
      "Installing collected packages: pip, boto3\n",
      "  Attempting uninstall: pip\n",
      "    Found existing installation: pip 21.3.1\n",
      "    Uninstalling pip-21.3.1:\n",
      "      Successfully uninstalled pip-21.3.1\n",
      "Successfully installed boto3-1.20.47 pip-22.0.2\n"
     ]
    }
   ],
   "source": [
    "!pip install --upgrade pip boto3"
   ]
  },
  {
   "cell_type": "code",
   "execution_count": 2,
   "id": "586edf3b-741b-4c11-bb52-fafa18feec1d",
   "metadata": {},
   "outputs": [],
   "source": [
    "import io\n",
    "import os\n",
    "\n",
    "import boto3\n",
    "import citric\n",
    "from IPython.display import HTML"
   ]
  },
  {
   "cell_type": "code",
   "execution_count": 3,
   "id": "2598031b-31be-4975-b2db-0ebb20d87b28",
   "metadata": {},
   "outputs": [
    {
     "data": {
      "text/plain": [
       "'0.0.8'"
      ]
     },
     "execution_count": 3,
     "metadata": {},
     "output_type": "execute_result"
    }
   ],
   "source": [
    "citric.__version__"
   ]
  },
  {
   "cell_type": "code",
   "execution_count": 4,
   "id": "97821189",
   "metadata": {},
   "outputs": [],
   "source": [
    "LS_URL = os.environ[\"LIMESURVEY_URL\"]\n",
    "LS_USERNAME = os.environ[\"LIMESURVEY_USERNAME\"]\n",
    "LS_PASSWORD = os.environ[\"LIMESURVEY_PASSWORD\"]"
   ]
  },
  {
   "cell_type": "markdown",
   "id": "739b1813-7516-4899-b714-126d05f65174",
   "metadata": {},
   "source": [
    "## Move survey file to S3\n",
    "\n",
    "- Setup S3 client\n",
    "- Create a new bucket\n",
    "- Upload file from local path"
   ]
  },
  {
   "cell_type": "code",
   "execution_count": 5,
   "id": "622990b0-6e1c-4431-b7e1-02a7bc2688a4",
   "metadata": {},
   "outputs": [],
   "source": [
    "s3 = boto3.client(\"s3\", endpoint_url=\"http://storage:9000\")\n",
    "\n",
    "s3.create_bucket(Bucket=\"testing\")\n",
    "s3.upload_file(\"../examples/survey.lss\", \"testing\", \"survey.lss\")"
   ]
  },
  {
   "cell_type": "markdown",
   "id": "b36eccb7-80cd-4843-bf59-2a6af0841192",
   "metadata": {},
   "source": [
    "## Upload survey from S3\n",
    "\n",
    "- Start `citric` client\n",
    "- Download file from S3\n",
    "- Import survey from S3 file\n",
    "- Display survey questions"
   ]
  },
  {
   "cell_type": "code",
   "execution_count": 6,
   "id": "5e7307f5-b872-4468-baaf-13eff990d345",
   "metadata": {},
   "outputs": [
    {
     "data": {
      "text/html": [
       "<p>Text for <strong>second question</strong></p>"
      ],
      "text/plain": [
       "<IPython.core.display.HTML object>"
      ]
     },
     "metadata": {},
     "output_type": "display_data"
    },
    {
     "data": {
      "text/html": [],
      "text/plain": [
       "<IPython.core.display.HTML object>"
      ]
     },
     "metadata": {},
     "output_type": "display_data"
    },
    {
     "data": {
      "text/html": [
       "<p>Text for <strong>first question</strong></p>"
      ],
      "text/plain": [
       "<IPython.core.display.HTML object>"
      ]
     },
     "metadata": {},
     "output_type": "display_data"
    },
    {
     "data": {
      "text/html": [],
      "text/plain": [
       "<IPython.core.display.HTML object>"
      ]
     },
     "metadata": {},
     "output_type": "display_data"
    },
    {
     "data": {
      "text/html": [
       "<p>Please upload a text file</p>"
      ],
      "text/plain": [
       "<IPython.core.display.HTML object>"
      ]
     },
     "metadata": {},
     "output_type": "display_data"
    },
    {
     "data": {
      "text/html": [
       "<p>A file with <strong>.txt</strong> extension</p>"
      ],
      "text/plain": [
       "<IPython.core.display.HTML object>"
      ]
     },
     "metadata": {},
     "output_type": "display_data"
    }
   ],
   "source": [
    "with citric.Client(LS_URL, LS_USERNAME, LS_PASSWORD) as client:\n",
    "    file_object = io.BytesIO()\n",
    "    s3.download_fileobj(\"testing\", \"survey.lss\", file_object)\n",
    "\n",
    "    file_object.seek(0)\n",
    "    survey_id = client.import_survey(file_object)\n",
    "    questions = client.list_questions(survey_id)\n",
    "\n",
    "    for question in questions:\n",
    "        display(HTML(question[\"question\"]))\n",
    "        display(HTML(question[\"help\"]))"
   ]
  },
  {
   "cell_type": "markdown",
   "id": "a09bf309-98d5-4fbc-897e-ebe4b0c78d01",
   "metadata": {},
   "source": [
    "## Cleanup\n",
    "\n",
    "- Delete bucket\n",
    "- Delete survey"
   ]
  },
  {
   "cell_type": "code",
   "execution_count": 7,
   "id": "0be47c6a-d219-4828-b92d-8f5f6763a4ca",
   "metadata": {},
   "outputs": [],
   "source": [
    "s3.delete_object(Bucket=\"testing\", Key=\"survey.lss\")\n",
    "s3.delete_bucket(Bucket=\"testing\")\n",
    "\n",
    "with citric.Client(LS_URL, LS_USERNAME, LS_PASSWORD) as client:\n",
    "    client.delete_survey(survey_id)"
   ]
  },
  {
   "cell_type": "code",
   "execution_count": null,
   "id": "ff8ebcc5-5681-44bb-953f-891ccd7ece3d",
   "metadata": {},
   "outputs": [],
   "source": []
  }
 ],
 "metadata": {
  "kernelspec": {
   "display_name": "Python 3 (ipykernel)",
   "language": "python",
   "name": "python3"
  },
  "language_info": {
   "codemirror_mode": {
    "name": "ipython",
    "version": 3
   },
   "file_extension": ".py",
   "mimetype": "text/x-python",
   "name": "python",
   "nbconvert_exporter": "python",
   "pygments_lexer": "ipython3",
   "version": "3.9.10"
  }
 },
 "nbformat": 4,
 "nbformat_minor": 5
}
