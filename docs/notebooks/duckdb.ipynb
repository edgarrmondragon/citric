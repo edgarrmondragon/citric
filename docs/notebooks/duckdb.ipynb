{
 "cells": [
  {
   "cell_type": "markdown",
   "metadata": {},
   "source": [
    "# Download responses and analyze them with DuckDB"
   ]
  },
  {
   "cell_type": "code",
   "execution_count": 1,
   "metadata": {},
   "outputs": [
    {
     "name": "stdout",
     "output_type": "stream",
     "text": [
      "Note: you may need to restart the kernel to use updated packages.\n",
      "Note: you may need to restart the kernel to use updated packages.\n"
     ]
    }
   ],
   "source": [
    "%pip install --upgrade pip duckdb-engine faker sqlalchemy jupysql --quiet\n",
    "%pip install ../.. --quiet  # or pip install citric"
   ]
  },
  {
   "cell_type": "code",
   "execution_count": 2,
   "metadata": {},
   "outputs": [],
   "source": [
    "from pathlib import Path\n",
    "\n",
    "from faker import Faker\n",
    "\n",
    "import citric"
   ]
  },
  {
   "cell_type": "markdown",
   "metadata": {},
   "source": [
    "## Create citric client"
   ]
  },
  {
   "cell_type": "code",
   "execution_count": 3,
   "metadata": {},
   "outputs": [],
   "source": [
    "# Use your own server's parameters here\n",
    "client = citric.Client(\n",
    "    \"http://localhost:8001/index.php/admin/remotecontrol\",\n",
    "    \"iamadmin\",\n",
    "    \"secret\",\n",
    ")"
   ]
  },
  {
   "cell_type": "markdown",
   "metadata": {},
   "source": [
    "## Load survey file"
   ]
  },
  {
   "cell_type": "code",
   "execution_count": 4,
   "metadata": {},
   "outputs": [],
   "source": [
    "with Path(\"../../examples/survey.lss\").open(\"rb\") as f:\n",
    "    survey_id = client.import_survey(f)"
   ]
  },
  {
   "cell_type": "markdown",
   "metadata": {},
   "source": [
    "## Generate fake response data"
   ]
  },
  {
   "cell_type": "code",
   "execution_count": 5,
   "metadata": {},
   "outputs": [
    {
     "data": {
      "text/plain": [
       "100"
      ]
     },
     "execution_count": 5,
     "metadata": {},
     "output_type": "execute_result"
    }
   ],
   "source": [
    "fake = Faker()\n",
    "\n",
    "fake_responses = []\n",
    "\n",
    "for _ in range(100):\n",
    "    start_date = fake.date_time_this_month()\n",
    "    submit_date = fake.date_time_between_dates(start_date)\n",
    "\n",
    "    response = {\n",
    "        \"G01Q01\": fake.text(max_nb_chars=100),\n",
    "        \"G01Q02\": fake.random_int(1, 5),\n",
    "        \"token\": fake.sha1()[:5],\n",
    "        \"ipaddr\": fake.ipv4(),\n",
    "        \"startdate\": start_date.isoformat(),\n",
    "        \"submitdate\": submit_date.isoformat(),\n",
    "    }\n",
    "\n",
    "    fake_responses.append(response)\n",
    "\n",
    "len(fake_responses)"
   ]
  },
  {
   "cell_type": "markdown",
   "metadata": {},
   "source": [
    "## Activate survey and load fake responses"
   ]
  },
  {
   "cell_type": "code",
   "execution_count": 6,
   "metadata": {},
   "outputs": [
    {
     "data": {
      "text/plain": [
       "100"
      ]
     },
     "execution_count": 6,
     "metadata": {},
     "output_type": "execute_result"
    }
   ],
   "source": [
    "client.activate_survey(survey_id)\n",
    "client.activate_tokens(survey_id)\n",
    "\n",
    "result = client.add_responses(survey_id, fake_responses)\n",
    "len(result)"
   ]
  },
  {
   "cell_type": "markdown",
   "metadata": {},
   "source": [
    "## Export responses to a CSV file"
   ]
  },
  {
   "cell_type": "code",
   "execution_count": 7,
   "metadata": {},
   "outputs": [],
   "source": [
    "with Path(\"responses.csv\").open(\"wb\") as file:\n",
    "    file.write(client.export_responses(survey_id, file_format=\"csv\"))"
   ]
  },
  {
   "cell_type": "markdown",
   "metadata": {},
   "source": [
    "## Import the CSV into DuckDB"
   ]
  },
  {
   "cell_type": "code",
   "execution_count": 8,
   "metadata": {},
   "outputs": [
    {
     "data": {
      "text/html": [
       "<span style=\"None\">Found pyproject.toml from &#x27;/Users/edgarramirez/Code/edgarrmondragon/citric&#x27;</span>"
      ],
      "text/plain": [
       "Found pyproject.toml from '/Users/edgarramirez/Code/edgarrmondragon/citric'"
      ]
     },
     "metadata": {},
     "output_type": "display_data"
    }
   ],
   "source": [
    "%load_ext sql"
   ]
  },
  {
   "cell_type": "code",
   "execution_count": 9,
   "metadata": {},
   "outputs": [],
   "source": [
    "%sql duckdb://"
   ]
  },
  {
   "cell_type": "code",
   "execution_count": 10,
   "metadata": {},
   "outputs": [
    {
     "data": {
      "text/html": [
       "<span style=\"None\">Running query in &#x27;duckdb://&#x27;</span>"
      ],
      "text/plain": [
       "Running query in 'duckdb://'"
      ]
     },
     "metadata": {},
     "output_type": "display_data"
    },
    {
     "data": {
      "text/html": [
       "<table>\n",
       "    <thead>\n",
       "        <tr>\n",
       "            <th>Count</th>\n",
       "        </tr>\n",
       "    </thead>\n",
       "    <tbody>\n",
       "    </tbody>\n",
       "</table>\n",
       "<span style='font-style:italic;font-size:11px'><code>ResultSet</code> : to convert to pandas, call <a href='https://jupysql.ploomber.io/en/latest/integrations/pandas.html'><code>.DataFrame()</code></a> or to polars, call <a href='https://jupysql.ploomber.io/en/latest/integrations/polars.html'><code>.PolarsDataFrame()</code></a></span><br>"
      ],
      "text/plain": [
       "+-------+\n",
       "| Count |\n",
       "+-------+\n",
       "+-------+"
      ]
     },
     "execution_count": 10,
     "metadata": {},
     "output_type": "execute_result"
    }
   ],
   "source": [
    "%sql CREATE TABLE responses AS SELECT * FROM 'responses.csv'"
   ]
  },
  {
   "cell_type": "markdown",
   "metadata": {},
   "source": [
    "## Query the responses with DuckDB"
   ]
  },
  {
   "cell_type": "code",
   "execution_count": 11,
   "metadata": {},
   "outputs": [
    {
     "data": {
      "text/html": [
       "<span style=\"None\">Running query in &#x27;duckdb://&#x27;</span>"
      ],
      "text/plain": [
       "Running query in 'duckdb://'"
      ]
     },
     "metadata": {},
     "output_type": "display_data"
    },
    {
     "data": {
      "text/html": [
       "<table>\n",
       "    <thead>\n",
       "        <tr>\n",
       "            <th>id</th>\n",
       "            <th>submitdate</th>\n",
       "            <th>lastpage</th>\n",
       "            <th>startlanguage</th>\n",
       "            <th>seed</th>\n",
       "            <th>token</th>\n",
       "            <th>startdate</th>\n",
       "            <th>datestamp</th>\n",
       "            <th>ipaddr</th>\n",
       "            <th>G01Q01</th>\n",
       "            <th>G01Q02</th>\n",
       "            <th>G02Q03</th>\n",
       "            <th>G02Q03[filecount]</th>\n",
       "        </tr>\n",
       "    </thead>\n",
       "    <tbody>\n",
       "        <tr>\n",
       "            <td>1</td>\n",
       "            <td>2023-08-07 01:01:39</td>\n",
       "            <td>None</td>\n",
       "            <td>en</td>\n",
       "            <td>None</td>\n",
       "            <td>b468e</td>\n",
       "            <td>2023-08-01 21:15:42</td>\n",
       "            <td>2023-08-08 19:56:29</td>\n",
       "            <td>182.63.148.172</td>\n",
       "            <td>Him walk white senior win send contain.</td>\n",
       "            <td>3</td>\n",
       "            <td>None</td>\n",
       "            <td>None</td>\n",
       "        </tr>\n",
       "        <tr>\n",
       "            <td>2</td>\n",
       "            <td>2023-08-06 13:53:54</td>\n",
       "            <td>None</td>\n",
       "            <td>en</td>\n",
       "            <td>None</td>\n",
       "            <td>9bc69</td>\n",
       "            <td>2023-08-03 12:59:20</td>\n",
       "            <td>2023-08-08 19:56:29</td>\n",
       "            <td>53.181.76.129</td>\n",
       "            <td>Perform bar evidence hour inside safe.</td>\n",
       "            <td>3</td>\n",
       "            <td>None</td>\n",
       "            <td>None</td>\n",
       "        </tr>\n",
       "        <tr>\n",
       "            <td>3</td>\n",
       "            <td>2023-08-06 01:52:39</td>\n",
       "            <td>None</td>\n",
       "            <td>en</td>\n",
       "            <td>None</td>\n",
       "            <td>e1c82</td>\n",
       "            <td>2023-08-03 09:37:28</td>\n",
       "            <td>2023-08-08 19:56:29</td>\n",
       "            <td>4.124.173.51</td>\n",
       "            <td>Win weight remain tough factor thing none. Within boy country develop no sure dream.</td>\n",
       "            <td>4</td>\n",
       "            <td>None</td>\n",
       "            <td>None</td>\n",
       "        </tr>\n",
       "        <tr>\n",
       "            <td>4</td>\n",
       "            <td>2023-08-07 00:51:37</td>\n",
       "            <td>None</td>\n",
       "            <td>en</td>\n",
       "            <td>None</td>\n",
       "            <td>f3c0c</td>\n",
       "            <td>2023-08-04 19:39:18</td>\n",
       "            <td>2023-08-08 19:56:29</td>\n",
       "            <td>155.33.200.9</td>\n",
       "            <td>Within far deep. Need however he purpose reach. Why one adult return create such spring he.</td>\n",
       "            <td>2</td>\n",
       "            <td>None</td>\n",
       "            <td>None</td>\n",
       "        </tr>\n",
       "        <tr>\n",
       "            <td>5</td>\n",
       "            <td>2023-08-03 05:06:15</td>\n",
       "            <td>None</td>\n",
       "            <td>en</td>\n",
       "            <td>None</td>\n",
       "            <td>93832</td>\n",
       "            <td>2023-08-01 07:00:08</td>\n",
       "            <td>2023-08-08 19:56:29</td>\n",
       "            <td>163.127.182.180</td>\n",
       "            <td>Level Democrat under smile check.</td>\n",
       "            <td>4</td>\n",
       "            <td>None</td>\n",
       "            <td>None</td>\n",
       "        </tr>\n",
       "    </tbody>\n",
       "</table>\n",
       "<span style='font-style:italic;font-size:11px'><code>ResultSet</code> : to convert to pandas, call <a href='https://jupysql.ploomber.io/en/latest/integrations/pandas.html'><code>.DataFrame()</code></a> or to polars, call <a href='https://jupysql.ploomber.io/en/latest/integrations/polars.html'><code>.PolarsDataFrame()</code></a></span><br>"
      ],
      "text/plain": [
       "+----+---------------------+----------+---------------+------+-------+---------------------+---------------------+-----------------+---------------------------------------------------------------------------------------------+--------+--------+-------------------+\n",
       "| id |      submitdate     | lastpage | startlanguage | seed | token |      startdate      |      datestamp      |      ipaddr     |                                            G01Q01                                           | G01Q02 | G02Q03 | G02Q03[filecount] |\n",
       "+----+---------------------+----------+---------------+------+-------+---------------------+---------------------+-----------------+---------------------------------------------------------------------------------------------+--------+--------+-------------------+\n",
       "| 1  | 2023-08-07 01:01:39 |   None   |       en      | None | b468e | 2023-08-01 21:15:42 | 2023-08-08 19:56:29 |  182.63.148.172 |                           Him walk white senior win send contain.                           |   3    |  None  |        None       |\n",
       "| 2  | 2023-08-06 13:53:54 |   None   |       en      | None | 9bc69 | 2023-08-03 12:59:20 | 2023-08-08 19:56:29 |  53.181.76.129  |                            Perform bar evidence hour inside safe.                           |   3    |  None  |        None       |\n",
       "| 3  | 2023-08-06 01:52:39 |   None   |       en      | None | e1c82 | 2023-08-03 09:37:28 | 2023-08-08 19:56:29 |   4.124.173.51  |     Win weight remain tough factor thing none. Within boy country develop no sure dream.    |   4    |  None  |        None       |\n",
       "| 4  | 2023-08-07 00:51:37 |   None   |       en      | None | f3c0c | 2023-08-04 19:39:18 | 2023-08-08 19:56:29 |   155.33.200.9  | Within far deep. Need however he purpose reach. Why one adult return create such spring he. |   2    |  None  |        None       |\n",
       "| 5  | 2023-08-03 05:06:15 |   None   |       en      | None | 93832 | 2023-08-01 07:00:08 | 2023-08-08 19:56:29 | 163.127.182.180 |                              Level Democrat under smile check.                              |   4    |  None  |        None       |\n",
       "+----+---------------------+----------+---------------+------+-------+---------------------+---------------------+-----------------+---------------------------------------------------------------------------------------------+--------+--------+-------------------+"
      ]
     },
     "execution_count": 11,
     "metadata": {},
     "output_type": "execute_result"
    }
   ],
   "source": [
    "%sql SELECT * FROM responses LIMIT 5"
   ]
  },
  {
   "cell_type": "markdown",
   "metadata": {},
   "source": [
    "### Show tally for multiple choice question"
   ]
  },
  {
   "cell_type": "code",
   "execution_count": 12,
   "metadata": {},
   "outputs": [
    {
     "data": {
      "text/html": [
       "<span style=\"None\">Running query in &#x27;duckdb://&#x27;</span>"
      ],
      "text/plain": [
       "Running query in 'duckdb://'"
      ]
     },
     "metadata": {},
     "output_type": "display_data"
    },
    {
     "data": {
      "text/html": [
       "<table>\n",
       "    <thead>\n",
       "        <tr>\n",
       "            <th>G01Q02</th>\n",
       "            <th>TOTAL</th>\n",
       "        </tr>\n",
       "    </thead>\n",
       "    <tbody>\n",
       "        <tr>\n",
       "            <td>1</td>\n",
       "            <td>20</td>\n",
       "        </tr>\n",
       "        <tr>\n",
       "            <td>2</td>\n",
       "            <td>16</td>\n",
       "        </tr>\n",
       "        <tr>\n",
       "            <td>3</td>\n",
       "            <td>23</td>\n",
       "        </tr>\n",
       "        <tr>\n",
       "            <td>4</td>\n",
       "            <td>24</td>\n",
       "        </tr>\n",
       "        <tr>\n",
       "            <td>5</td>\n",
       "            <td>17</td>\n",
       "        </tr>\n",
       "    </tbody>\n",
       "</table>\n",
       "<span style='font-style:italic;font-size:11px'><code>ResultSet</code> : to convert to pandas, call <a href='https://jupysql.ploomber.io/en/latest/integrations/pandas.html'><code>.DataFrame()</code></a> or to polars, call <a href='https://jupysql.ploomber.io/en/latest/integrations/polars.html'><code>.PolarsDataFrame()</code></a></span><br>"
      ],
      "text/plain": [
       "+--------+-------+\n",
       "| G01Q02 | TOTAL |\n",
       "+--------+-------+\n",
       "|   1    |   20  |\n",
       "|   2    |   16  |\n",
       "|   3    |   23  |\n",
       "|   4    |   24  |\n",
       "|   5    |   17  |\n",
       "+--------+-------+"
      ]
     },
     "execution_count": 12,
     "metadata": {},
     "output_type": "execute_result"
    }
   ],
   "source": [
    "%sql SELECT G01Q02, count(1) as TOTAL FROM responses GROUP BY G01Q02"
   ]
  },
  {
   "cell_type": "markdown",
   "metadata": {},
   "source": [
    "### Show which respondents took the longest to submit their responses"
   ]
  },
  {
   "cell_type": "code",
   "execution_count": 13,
   "metadata": {},
   "outputs": [
    {
     "data": {
      "text/html": [
       "<span style=\"None\">Running query in &#x27;duckdb://&#x27;</span>"
      ],
      "text/plain": [
       "Running query in 'duckdb://'"
      ]
     },
     "metadata": {},
     "output_type": "display_data"
    },
    {
     "data": {
      "text/html": [
       "<table>\n",
       "    <thead>\n",
       "        <tr>\n",
       "            <th>token</th>\n",
       "            <th>duration</th>\n",
       "        </tr>\n",
       "    </thead>\n",
       "    <tbody>\n",
       "        <tr>\n",
       "            <td>44288</td>\n",
       "            <td>5 days, 18:58:30</td>\n",
       "        </tr>\n",
       "        <tr>\n",
       "            <td>70c3e</td>\n",
       "            <td>5 days, 8:48:22</td>\n",
       "        </tr>\n",
       "        <tr>\n",
       "            <td>69491</td>\n",
       "            <td>5 days, 8:01:47</td>\n",
       "        </tr>\n",
       "        <tr>\n",
       "            <td>b468e</td>\n",
       "            <td>5 days, 3:45:57</td>\n",
       "        </tr>\n",
       "        <tr>\n",
       "            <td>fde2a</td>\n",
       "            <td>4 days, 22:14:05</td>\n",
       "        </tr>\n",
       "        <tr>\n",
       "            <td>42bc4</td>\n",
       "            <td>4 days, 19:00:15</td>\n",
       "        </tr>\n",
       "        <tr>\n",
       "            <td>9c08f</td>\n",
       "            <td>4 days, 17:08:00</td>\n",
       "        </tr>\n",
       "        <tr>\n",
       "            <td>bcade</td>\n",
       "            <td>4 days, 12:04:27</td>\n",
       "        </tr>\n",
       "        <tr>\n",
       "            <td>0bcd7</td>\n",
       "            <td>4 days, 8:41:31</td>\n",
       "        </tr>\n",
       "        <tr>\n",
       "            <td>993ee</td>\n",
       "            <td>4 days, 7:21:23</td>\n",
       "        </tr>\n",
       "    </tbody>\n",
       "</table>\n",
       "<span style='font-style:italic;font-size:11px'><code>ResultSet</code> : to convert to pandas, call <a href='https://jupysql.ploomber.io/en/latest/integrations/pandas.html'><code>.DataFrame()</code></a> or to polars, call <a href='https://jupysql.ploomber.io/en/latest/integrations/polars.html'><code>.PolarsDataFrame()</code></a></span><br>\n",
       "<span style=\"font-style:italic;text-align:center;\">Truncated to displaylimit of 10</span><br><span style=\"font-style:italic;text-align:center;\">If you want to see more, please visit <a href=\"https://jupysql.ploomber.io/en/latest/api/configuration.html#displaylimit\">displaylimit</a> configuration</span>"
      ],
      "text/plain": [
       "+-------+------------------+\n",
       "| token |     duration     |\n",
       "+-------+------------------+\n",
       "| 44288 | 5 days, 18:58:30 |\n",
       "| 70c3e | 5 days, 8:48:22  |\n",
       "| 69491 | 5 days, 8:01:47  |\n",
       "| b468e | 5 days, 3:45:57  |\n",
       "| fde2a | 4 days, 22:14:05 |\n",
       "| 42bc4 | 4 days, 19:00:15 |\n",
       "| 9c08f | 4 days, 17:08:00 |\n",
       "| bcade | 4 days, 12:04:27 |\n",
       "| 0bcd7 | 4 days, 8:41:31  |\n",
       "| 993ee | 4 days, 7:21:23  |\n",
       "+-------+------------------+"
      ]
     },
     "execution_count": 13,
     "metadata": {},
     "output_type": "execute_result"
    }
   ],
   "source": [
    "%%sql\n",
    "SELECT token, submitdate - startdate AS duration\n",
    "FROM responses\n",
    "ORDER BY 2 DESC LIMIT 10"
   ]
  }
 ],
 "metadata": {
  "interpreter": {
   "hash": "e42460aa157cec94adf3a7ea7787d76efe56844a218e5f20aa94deb227ae85b8"
  },
  "kernelspec": {
   "display_name": "Python 3 (ipykernel)",
   "language": "python",
   "name": "python3"
  },
  "language_info": {
   "codemirror_mode": {
    "name": "ipython",
    "version": 3
   },
   "file_extension": ".py",
   "mimetype": "text/x-python",
   "name": "python",
   "nbconvert_exporter": "python",
   "pygments_lexer": "ipython3",
   "version": "3.11.4"
  }
 },
 "nbformat": 4,
 "nbformat_minor": 4
}
