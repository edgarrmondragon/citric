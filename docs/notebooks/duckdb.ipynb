{
 "cells": [
  {
   "cell_type": "markdown",
   "metadata": {},
   "source": [
    "# Download responses and analyze them with DuckDB"
   ]
  },
  {
   "cell_type": "code",
   "execution_count": 1,
   "metadata": {},
   "outputs": [],
   "source": [
    "!pip install --upgrade pip citric duckdb-engine faker jupysql sqlalchemy --quiet"
   ]
  },
  {
   "cell_type": "code",
   "execution_count": 2,
   "metadata": {},
   "outputs": [],
   "source": [
    "from pathlib import Path\n",
    "\n",
    "from faker import Faker\n",
    "\n",
    "import citric"
   ]
  },
  {
   "cell_type": "markdown",
   "metadata": {},
   "source": [
    "## Create citric client"
   ]
  },
  {
   "cell_type": "code",
   "execution_count": 3,
   "metadata": {},
   "outputs": [],
   "source": [
    "# Use your own server's parameters here\n",
    "client = citric.Client(\n",
    "    \"http://localhost:8001/index.php/admin/remotecontrol\",\n",
    "    \"iamadmin\",\n",
    "    \"secret\",\n",
    ")"
   ]
  },
  {
   "cell_type": "markdown",
   "metadata": {},
   "source": [
    "## Load survey file"
   ]
  },
  {
   "cell_type": "code",
   "execution_count": 4,
   "metadata": {},
   "outputs": [],
   "source": [
    "with Path(\"../../examples/survey.lss\").open(\"rb\") as f:\n",
    "    survey_id = client.import_survey(f)"
   ]
  },
  {
   "cell_type": "markdown",
   "metadata": {},
   "source": [
    "## Generate fake response data"
   ]
  },
  {
   "cell_type": "code",
   "execution_count": 5,
   "metadata": {},
   "outputs": [
    {
     "data": {
      "text/plain": [
       "100"
      ]
     },
     "execution_count": 5,
     "metadata": {},
     "output_type": "execute_result"
    }
   ],
   "source": [
    "fake = Faker()\n",
    "\n",
    "fake_responses = []\n",
    "\n",
    "for _ in range(100):\n",
    "    start_date = fake.date_time_this_month()\n",
    "    submit_date = fake.date_time_between_dates(start_date)\n",
    "\n",
    "    response = {\n",
    "        \"G01Q01\": fake.text(max_nb_chars=100),\n",
    "        \"G01Q02\": fake.random_int(1, 5),\n",
    "        \"token\": fake.sha1()[:5],\n",
    "        \"ipaddr\": fake.ipv4(),\n",
    "        \"startdate\": start_date.isoformat(),\n",
    "        \"submitdate\": submit_date.isoformat(),\n",
    "    }\n",
    "\n",
    "    fake_responses.append(response)\n",
    "\n",
    "len(fake_responses)"
   ]
  },
  {
   "cell_type": "markdown",
   "metadata": {},
   "source": [
    "## Activate survey and load fake responses"
   ]
  },
  {
   "cell_type": "code",
   "execution_count": 6,
   "metadata": {},
   "outputs": [
    {
     "data": {
      "text/plain": [
       "100"
      ]
     },
     "execution_count": 6,
     "metadata": {},
     "output_type": "execute_result"
    }
   ],
   "source": [
    "client.activate_survey(\n",
    "    survey_id,\n",
    "    user_activation_settings={\n",
    "        \"datestamp\": True,\n",
    "    },\n",
    ")\n",
    "client.activate_tokens(survey_id)\n",
    "\n",
    "result = client.add_responses(survey_id, fake_responses)\n",
    "len(result)"
   ]
  },
  {
   "cell_type": "markdown",
   "metadata": {},
   "source": [
    "## Export responses to a CSV file"
   ]
  },
  {
   "cell_type": "code",
   "execution_count": 7,
   "metadata": {},
   "outputs": [],
   "source": [
    "with Path(\"responses.csv\").open(\"wb\") as file:\n",
    "    file.write(\n",
    "        client.export_responses(\n",
    "            survey_id,\n",
    "            file_format=\"csv\",\n",
    "        )\n",
    "    )"
   ]
  },
  {
   "cell_type": "markdown",
   "metadata": {},
   "source": [
    "## Import the CSV into DuckDB"
   ]
  },
  {
   "cell_type": "code",
   "execution_count": 8,
   "metadata": {},
   "outputs": [
    {
     "data": {
      "text/html": [
       "<span style=\"None\">The &#x27;toml&#x27; package isn&#x27;t installed. To load settings from pyproject.toml or ~/.jupysql/config, install with: pip install toml</span>"
      ],
      "text/plain": [
       "The 'toml' package isn't installed. To load settings from pyproject.toml or ~/.jupysql/config, install with: pip install toml"
      ]
     },
     "metadata": {},
     "output_type": "display_data"
    }
   ],
   "source": [
    "%load_ext sql"
   ]
  },
  {
   "cell_type": "code",
   "execution_count": 9,
   "metadata": {},
   "outputs": [
    {
     "data": {
      "text/html": [
       "<span style=\"None\">Connecting to &#x27;duckdb://&#x27;</span>"
      ],
      "text/plain": [
       "Connecting to 'duckdb://'"
      ]
     },
     "metadata": {},
     "output_type": "display_data"
    }
   ],
   "source": [
    "%sql duckdb://"
   ]
  },
  {
   "cell_type": "code",
   "execution_count": 10,
   "metadata": {},
   "outputs": [
    {
     "data": {
      "text/html": [
       "<span style=\"None\">Running query in &#x27;duckdb://&#x27;</span>"
      ],
      "text/plain": [
       "Running query in 'duckdb://'"
      ]
     },
     "metadata": {},
     "output_type": "display_data"
    },
    {
     "data": {
      "text/html": [
       "<table>\n",
       "    <thead>\n",
       "        <tr>\n",
       "            <th>Count</th>\n",
       "        </tr>\n",
       "    </thead>\n",
       "    <tbody>\n",
       "    </tbody>\n",
       "</table>"
      ],
      "text/plain": [
       "+-------+\n",
       "| Count |\n",
       "+-------+\n",
       "+-------+"
      ]
     },
     "execution_count": 10,
     "metadata": {},
     "output_type": "execute_result"
    }
   ],
   "source": [
    "%sql CREATE TABLE responses AS SELECT * FROM 'responses.csv'"
   ]
  },
  {
   "cell_type": "markdown",
   "metadata": {},
   "source": [
    "## Query the responses with DuckDB"
   ]
  },
  {
   "cell_type": "code",
   "execution_count": 11,
   "metadata": {},
   "outputs": [
    {
     "data": {
      "text/html": [
       "<span style=\"None\">Running query in &#x27;duckdb://&#x27;</span>"
      ],
      "text/plain": [
       "Running query in 'duckdb://'"
      ]
     },
     "metadata": {},
     "output_type": "display_data"
    },
    {
     "data": {
      "text/html": [
       "<table>\n",
       "    <thead>\n",
       "        <tr>\n",
       "            <th>id</th>\n",
       "            <th>submitdate</th>\n",
       "            <th>lastpage</th>\n",
       "            <th>startlanguage</th>\n",
       "            <th>seed</th>\n",
       "            <th>token</th>\n",
       "            <th>startdate</th>\n",
       "            <th>datestamp</th>\n",
       "            <th>G01Q01</th>\n",
       "            <th>G01Q02</th>\n",
       "            <th>G02Q03</th>\n",
       "            <th>G02Q03[filecount]</th>\n",
       "        </tr>\n",
       "    </thead>\n",
       "    <tbody>\n",
       "        <tr>\n",
       "            <td>1</td>\n",
       "            <td>2024-02-04 08:26:31.140133</td>\n",
       "            <td>None</td>\n",
       "            <td>en</td>\n",
       "            <td>None</td>\n",
       "            <td>d360f</td>\n",
       "            <td>2024-02-01 17:42:02.678612</td>\n",
       "            <td>2024-02-08 17:19:08</td>\n",
       "            <td>Should check nor will. Every difficult thousand vote provide information nice.</td>\n",
       "            <td>3</td>\n",
       "            <td>None</td>\n",
       "            <td>None</td>\n",
       "        </tr>\n",
       "        <tr>\n",
       "            <td>2</td>\n",
       "            <td>2024-02-05 10:16:08.647063</td>\n",
       "            <td>None</td>\n",
       "            <td>en</td>\n",
       "            <td>None</td>\n",
       "            <td>c164f</td>\n",
       "            <td>2024-02-03 07:43:22.637163</td>\n",
       "            <td>2024-02-08 17:19:09</td>\n",
       "            <td>Dog tree rise born career amount. Few energy market since method could film.</td>\n",
       "            <td>4</td>\n",
       "            <td>None</td>\n",
       "            <td>None</td>\n",
       "        </tr>\n",
       "        <tr>\n",
       "            <td>3</td>\n",
       "            <td>2024-02-07 20:59:08.821572</td>\n",
       "            <td>None</td>\n",
       "            <td>en</td>\n",
       "            <td>None</td>\n",
       "            <td>2730f</td>\n",
       "            <td>2024-02-06 15:59:43.136551</td>\n",
       "            <td>2024-02-08 17:19:09</td>\n",
       "            <td>Set study station ten. Responsibility early better big how which. Him truth art.</td>\n",
       "            <td>3</td>\n",
       "            <td>None</td>\n",
       "            <td>None</td>\n",
       "        </tr>\n",
       "        <tr>\n",
       "            <td>4</td>\n",
       "            <td>2024-02-07 19:26:01.977188</td>\n",
       "            <td>None</td>\n",
       "            <td>en</td>\n",
       "            <td>None</td>\n",
       "            <td>43736</td>\n",
       "            <td>2024-02-07 04:15:00.716972</td>\n",
       "            <td>2024-02-08 17:19:09</td>\n",
       "            <td>Vote see per former message present. Apply drop citizen site yard image group window.</td>\n",
       "            <td>5</td>\n",
       "            <td>None</td>\n",
       "            <td>None</td>\n",
       "        </tr>\n",
       "        <tr>\n",
       "            <td>5</td>\n",
       "            <td>2024-02-03 00:05:17.846386</td>\n",
       "            <td>None</td>\n",
       "            <td>en</td>\n",
       "            <td>None</td>\n",
       "            <td>bfd64</td>\n",
       "            <td>2024-02-01 01:10:01.432302</td>\n",
       "            <td>2024-02-08 17:19:09</td>\n",
       "            <td>Truth woman hot much official rather old. Few paper song yard woman likely.</td>\n",
       "            <td>3</td>\n",
       "            <td>None</td>\n",
       "            <td>None</td>\n",
       "        </tr>\n",
       "    </tbody>\n",
       "</table>"
      ],
      "text/plain": [
       "+----+----------------------------+----------+---------------+------+-------+----------------------------+---------------------+---------------------------------------------------------------------------------------+--------+--------+-------------------+\n",
       "| id |         submitdate         | lastpage | startlanguage | seed | token |         startdate          |      datestamp      |                                         G01Q01                                        | G01Q02 | G02Q03 | G02Q03[filecount] |\n",
       "+----+----------------------------+----------+---------------+------+-------+----------------------------+---------------------+---------------------------------------------------------------------------------------+--------+--------+-------------------+\n",
       "| 1  | 2024-02-04 08:26:31.140133 |   None   |       en      | None | d360f | 2024-02-01 17:42:02.678612 | 2024-02-08 17:19:08 |     Should check nor will. Every difficult thousand vote provide information nice.    |   3    |  None  |        None       |\n",
       "| 2  | 2024-02-05 10:16:08.647063 |   None   |       en      | None | c164f | 2024-02-03 07:43:22.637163 | 2024-02-08 17:19:09 |      Dog tree rise born career amount. Few energy market since method could film.     |   4    |  None  |        None       |\n",
       "| 3  | 2024-02-07 20:59:08.821572 |   None   |       en      | None | 2730f | 2024-02-06 15:59:43.136551 | 2024-02-08 17:19:09 |    Set study station ten. Responsibility early better big how which. Him truth art.   |   3    |  None  |        None       |\n",
       "| 4  | 2024-02-07 19:26:01.977188 |   None   |       en      | None | 43736 | 2024-02-07 04:15:00.716972 | 2024-02-08 17:19:09 | Vote see per former message present. Apply drop citizen site yard image group window. |   5    |  None  |        None       |\n",
       "| 5  | 2024-02-03 00:05:17.846386 |   None   |       en      | None | bfd64 | 2024-02-01 01:10:01.432302 | 2024-02-08 17:19:09 |      Truth woman hot much official rather old. Few paper song yard woman likely.      |   3    |  None  |        None       |\n",
       "+----+----------------------------+----------+---------------+------+-------+----------------------------+---------------------+---------------------------------------------------------------------------------------+--------+--------+-------------------+"
      ]
     },
     "execution_count": 11,
     "metadata": {},
     "output_type": "execute_result"
    }
   ],
   "source": [
    "%sql SELECT * FROM responses LIMIT 5"
   ]
  },
  {
   "cell_type": "markdown",
   "metadata": {},
   "source": [
    "### Show tally for multiple choice question"
   ]
  },
  {
   "cell_type": "code",
   "execution_count": 12,
   "metadata": {},
   "outputs": [
    {
     "data": {
      "text/html": [
       "<span style=\"None\">Running query in &#x27;duckdb://&#x27;</span>"
      ],
      "text/plain": [
       "Running query in 'duckdb://'"
      ]
     },
     "metadata": {},
     "output_type": "display_data"
    },
    {
     "data": {
      "text/html": [
       "<table>\n",
       "    <thead>\n",
       "        <tr>\n",
       "            <th>G01Q02</th>\n",
       "            <th>TOTAL</th>\n",
       "        </tr>\n",
       "    </thead>\n",
       "    <tbody>\n",
       "        <tr>\n",
       "            <td>1</td>\n",
       "            <td>20</td>\n",
       "        </tr>\n",
       "        <tr>\n",
       "            <td>2</td>\n",
       "            <td>15</td>\n",
       "        </tr>\n",
       "        <tr>\n",
       "            <td>3</td>\n",
       "            <td>26</td>\n",
       "        </tr>\n",
       "        <tr>\n",
       "            <td>4</td>\n",
       "            <td>19</td>\n",
       "        </tr>\n",
       "        <tr>\n",
       "            <td>5</td>\n",
       "            <td>20</td>\n",
       "        </tr>\n",
       "    </tbody>\n",
       "</table>"
      ],
      "text/plain": [
       "+--------+-------+\n",
       "| G01Q02 | TOTAL |\n",
       "+--------+-------+\n",
       "|   1    |   20  |\n",
       "|   2    |   15  |\n",
       "|   3    |   26  |\n",
       "|   4    |   19  |\n",
       "|   5    |   20  |\n",
       "+--------+-------+"
      ]
     },
     "execution_count": 12,
     "metadata": {},
     "output_type": "execute_result"
    }
   ],
   "source": [
    "%sql SELECT G01Q02, count(1) as TOTAL FROM responses GROUP BY G01Q02"
   ]
  },
  {
   "cell_type": "markdown",
   "metadata": {},
   "source": [
    "### Show which respondents took the longest to submit their responses"
   ]
  },
  {
   "cell_type": "code",
   "execution_count": 13,
   "metadata": {},
   "outputs": [
    {
     "data": {
      "text/html": [
       "<span style=\"None\">Running query in &#x27;duckdb://&#x27;</span>"
      ],
      "text/plain": [
       "Running query in 'duckdb://'"
      ]
     },
     "metadata": {},
     "output_type": "display_data"
    },
    {
     "data": {
      "text/html": [
       "<table>\n",
       "    <thead>\n",
       "        <tr>\n",
       "            <th>token</th>\n",
       "            <th>duration</th>\n",
       "        </tr>\n",
       "    </thead>\n",
       "    <tbody>\n",
       "        <tr>\n",
       "            <td>01a8a</td>\n",
       "            <td>7 days, 2:47:48.802061</td>\n",
       "        </tr>\n",
       "        <tr>\n",
       "            <td>8462d</td>\n",
       "            <td>6 days, 14:02:59.801133</td>\n",
       "        </tr>\n",
       "        <tr>\n",
       "            <td>9a07a</td>\n",
       "            <td>5 days, 14:45:12.970604</td>\n",
       "        </tr>\n",
       "        <tr>\n",
       "            <td>aa7b1</td>\n",
       "            <td>5 days, 10:55:18.878968</td>\n",
       "        </tr>\n",
       "        <tr>\n",
       "            <td>65aaf</td>\n",
       "            <td>5 days, 7:17:34.454648</td>\n",
       "        </tr>\n",
       "        <tr>\n",
       "            <td>d2b4f</td>\n",
       "            <td>5 days, 1:28:12.931126</td>\n",
       "        </tr>\n",
       "        <tr>\n",
       "            <td>137cd</td>\n",
       "            <td>4 days, 21:42:49.472567</td>\n",
       "        </tr>\n",
       "        <tr>\n",
       "            <td>4398c</td>\n",
       "            <td>4 days, 18:26:43.167388</td>\n",
       "        </tr>\n",
       "        <tr>\n",
       "            <td>332f3</td>\n",
       "            <td>4 days, 13:44:53.925752</td>\n",
       "        </tr>\n",
       "        <tr>\n",
       "            <td>b6750</td>\n",
       "            <td>4 days, 9:41:03.360606</td>\n",
       "        </tr>\n",
       "    </tbody>\n",
       "</table>\n",
       "<span style=\"font-style:italic;text-align:center;\">Truncated to <a href=\"https://jupysql.ploomber.io/en/latest/api/configuration.html#displaylimit\">displaylimit</a> of 10.</span>"
      ],
      "text/plain": [
       "+-------+-------------------------+\n",
       "| token |         duration        |\n",
       "+-------+-------------------------+\n",
       "| 01a8a |  7 days, 2:47:48.802061 |\n",
       "| 8462d | 6 days, 14:02:59.801133 |\n",
       "| 9a07a | 5 days, 14:45:12.970604 |\n",
       "| aa7b1 | 5 days, 10:55:18.878968 |\n",
       "| 65aaf |  5 days, 7:17:34.454648 |\n",
       "| d2b4f |  5 days, 1:28:12.931126 |\n",
       "| 137cd | 4 days, 21:42:49.472567 |\n",
       "| 4398c | 4 days, 18:26:43.167388 |\n",
       "| 332f3 | 4 days, 13:44:53.925752 |\n",
       "| b6750 |  4 days, 9:41:03.360606 |\n",
       "+-------+-------------------------+\n",
       "Truncated to displaylimit of 10."
      ]
     },
     "execution_count": 13,
     "metadata": {},
     "output_type": "execute_result"
    }
   ],
   "source": [
    "%%sql\n",
    "SELECT token, submitdate - startdate AS duration\n",
    "FROM responses\n",
    "ORDER BY 2 DESC LIMIT 10"
   ]
  }
 ],
 "metadata": {
  "interpreter": {
   "hash": "e42460aa157cec94adf3a7ea7787d76efe56844a218e5f20aa94deb227ae85b8"
  },
  "kernelspec": {
   "display_name": "Python 3 (ipykernel)",
   "language": "python",
   "name": "python3"
  },
  "language_info": {
   "codemirror_mode": {
    "name": "ipython",
    "version": 3
   },
   "file_extension": ".py",
   "mimetype": "text/x-python",
   "name": "python",
   "nbconvert_exporter": "python",
   "pygments_lexer": "ipython3",
   "version": "3.11.8"
  }
 },
 "nbformat": 4,
 "nbformat_minor": 4
}
