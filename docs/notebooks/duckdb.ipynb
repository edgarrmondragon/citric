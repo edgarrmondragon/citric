{
 "cells": [
  {
   "cell_type": "markdown",
   "metadata": {},
   "source": [
    "# Download responses and analyze them with DuckDB"
   ]
  },
  {
   "cell_type": "code",
   "execution_count": 1,
   "metadata": {},
   "outputs": [
    {
     "name": "stdout",
     "output_type": "stream",
     "text": [
      "Note: you may need to restart the kernel to use updated packages.\n",
      "Note: you may need to restart the kernel to use updated packages.\n"
     ]
    }
   ],
   "source": [
    "%pip install --upgrade pip duckdb-engine faker sqlalchemy jupysql --quiet\n",
    "%pip install ../.. --quiet  # or pip install citric"
   ]
  },
  {
   "cell_type": "code",
   "execution_count": 2,
   "metadata": {},
   "outputs": [],
   "source": [
    "from pathlib import Path\n",
    "\n",
    "from faker import Faker\n",
    "\n",
    "import citric"
   ]
  },
  {
   "cell_type": "markdown",
   "metadata": {},
   "source": [
    "## Create citric client"
   ]
  },
  {
   "cell_type": "code",
   "execution_count": 3,
   "metadata": {},
   "outputs": [],
   "source": [
    "# Use your own server's parameters here\n",
    "client = citric.Client(\n",
    "    \"http://localhost:8001/index.php/admin/remotecontrol\",\n",
    "    \"iamadmin\",\n",
    "    \"secret\",\n",
    ")"
   ]
  },
  {
   "cell_type": "markdown",
   "metadata": {},
   "source": [
    "## Load survey file"
   ]
  },
  {
   "cell_type": "code",
   "execution_count": 4,
   "metadata": {},
   "outputs": [],
   "source": [
    "with Path(\"../../examples/survey.lss\").open(\"rb\") as f:\n",
    "    survey_id = client.import_survey(f)"
   ]
  },
  {
   "cell_type": "markdown",
   "metadata": {},
   "source": [
    "## Generate fake response data"
   ]
  },
  {
   "cell_type": "code",
   "execution_count": 5,
   "metadata": {},
   "outputs": [
    {
     "data": {
      "text/plain": [
       "100"
      ]
     },
     "execution_count": 5,
     "metadata": {},
     "output_type": "execute_result"
    }
   ],
   "source": [
    "fake = Faker()\n",
    "\n",
    "fake_responses = []\n",
    "\n",
    "for _ in range(100):\n",
    "    start_date = fake.date_time_this_month()\n",
    "    submit_date = fake.date_time_between_dates(start_date)\n",
    "\n",
    "    response = {\n",
    "        \"G01Q01\": fake.text(max_nb_chars=100),\n",
    "        \"G01Q02\": fake.random_int(1, 5),\n",
    "        \"token\": fake.sha1()[:5],\n",
    "        \"ipaddr\": fake.ipv4(),\n",
    "        \"startdate\": start_date.isoformat(),\n",
    "        \"submitdate\": submit_date.isoformat(),\n",
    "    }\n",
    "\n",
    "    fake_responses.append(response)\n",
    "\n",
    "len(fake_responses)"
   ]
  },
  {
   "cell_type": "markdown",
   "metadata": {},
   "source": [
    "## Activate survey and load fake responses"
   ]
  },
  {
   "cell_type": "code",
   "execution_count": 6,
   "metadata": {},
   "outputs": [
    {
     "data": {
      "text/plain": [
       "100"
      ]
     },
     "execution_count": 6,
     "metadata": {},
     "output_type": "execute_result"
    }
   ],
   "source": [
    "client.activate_survey(survey_id)\n",
    "client.activate_tokens(survey_id)\n",
    "\n",
    "result = client.add_responses(survey_id, fake_responses)\n",
    "len(result)"
   ]
  },
  {
   "cell_type": "markdown",
   "metadata": {},
   "source": [
    "## Export responses to a CSV file"
   ]
  },
  {
   "cell_type": "code",
   "execution_count": 7,
   "metadata": {},
   "outputs": [],
   "source": [
    "with Path(\"responses.csv\").open(\"wb\") as file:\n",
    "    file.write(client.export_responses(survey_id, file_format=\"csv\"))"
   ]
  },
  {
   "cell_type": "markdown",
   "metadata": {},
   "source": [
    "## Import the CSV into DuckDB"
   ]
  },
  {
   "cell_type": "code",
   "execution_count": 8,
   "metadata": {},
   "outputs": [],
   "source": [
    "%load_ext sql"
   ]
  },
  {
   "cell_type": "code",
   "execution_count": 9,
   "metadata": {},
   "outputs": [],
   "source": [
    "%sql duckdb://"
   ]
  },
  {
   "cell_type": "code",
   "execution_count": 10,
   "metadata": {},
   "outputs": [
    {
     "name": "stdout",
     "output_type": "stream",
     "text": [
      "*  duckdb://\n",
      "Done.\n"
     ]
    },
    {
     "data": {
      "text/html": [
       "<table>\n",
       "    <thead>\n",
       "        <tr>\n",
       "            <th>Count</th>\n",
       "        </tr>\n",
       "    </thead>\n",
       "    <tbody>\n",
       "        <tr>\n",
       "            <td>100</td>\n",
       "        </tr>\n",
       "    </tbody>\n",
       "</table>"
      ],
      "text/plain": [
       "[(100,)]"
      ]
     },
     "execution_count": 10,
     "metadata": {},
     "output_type": "execute_result"
    }
   ],
   "source": [
    "%sql CREATE TABLE responses AS SELECT * FROM 'responses.csv'"
   ]
  },
  {
   "cell_type": "markdown",
   "metadata": {},
   "source": [
    "## Query the responses with DuckDB"
   ]
  },
  {
   "cell_type": "code",
   "execution_count": 11,
   "metadata": {},
   "outputs": [
    {
     "name": "stdout",
     "output_type": "stream",
     "text": [
      "*  duckdb://\n",
      "Done.\n"
     ]
    },
    {
     "data": {
      "text/html": [
       "<table>\n",
       "    <thead>\n",
       "        <tr>\n",
       "            <th>id</th>\n",
       "            <th>submitdate</th>\n",
       "            <th>lastpage</th>\n",
       "            <th>startlanguage</th>\n",
       "            <th>seed</th>\n",
       "            <th>token</th>\n",
       "            <th>startdate</th>\n",
       "            <th>datestamp</th>\n",
       "            <th>ipaddr</th>\n",
       "            <th>G01Q02</th>\n",
       "            <th>G01Q01</th>\n",
       "            <th>G02Q03</th>\n",
       "            <th>G02Q03[filecount]</th>\n",
       "        </tr>\n",
       "    </thead>\n",
       "    <tbody>\n",
       "        <tr>\n",
       "            <td>1</td>\n",
       "            <td>2023-03-07 18:23:10</td>\n",
       "            <td></td>\n",
       "            <td>en</td>\n",
       "            <td></td>\n",
       "            <td>1eef3</td>\n",
       "            <td>2023-03-04 06:33:57</td>\n",
       "            <td>2023-03-10 03:29:09</td>\n",
       "            <td>20.134.168.36</td>\n",
       "            <td>2</td>\n",
       "            <td>Process necessary leader deep. Race size out production pass.</td>\n",
       "            <td></td>\n",
       "            <td></td>\n",
       "        </tr>\n",
       "        <tr>\n",
       "            <td>2</td>\n",
       "            <td>2023-03-06 04:08:01</td>\n",
       "            <td></td>\n",
       "            <td>en</td>\n",
       "            <td></td>\n",
       "            <td>b2d77</td>\n",
       "            <td>2023-03-03 18:12:55</td>\n",
       "            <td>2023-03-10 03:29:09</td>\n",
       "            <td>38.118.119.251</td>\n",
       "            <td>2</td>\n",
       "            <td>Entire nearly prove see else include service.</td>\n",
       "            <td></td>\n",
       "            <td></td>\n",
       "        </tr>\n",
       "        <tr>\n",
       "            <td>3</td>\n",
       "            <td>2023-03-06 05:32:40</td>\n",
       "            <td></td>\n",
       "            <td>en</td>\n",
       "            <td></td>\n",
       "            <td>94eab</td>\n",
       "            <td>2023-03-02 14:16:59</td>\n",
       "            <td>2023-03-10 03:29:09</td>\n",
       "            <td>65.248.2.179</td>\n",
       "            <td>3</td>\n",
       "            <td>Prove information finish floor party. City second one. Deal never box second top building.</td>\n",
       "            <td></td>\n",
       "            <td></td>\n",
       "        </tr>\n",
       "        <tr>\n",
       "            <td>4</td>\n",
       "            <td>2023-03-09 12:35:57</td>\n",
       "            <td></td>\n",
       "            <td>en</td>\n",
       "            <td></td>\n",
       "            <td>c03f3</td>\n",
       "            <td>2023-03-07 03:23:15</td>\n",
       "            <td>2023-03-10 03:29:09</td>\n",
       "            <td>159.145.242.156</td>\n",
       "            <td>3</td>\n",
       "            <td>Least class side local sure room would. Class view share soon. Strong have impact myself.</td>\n",
       "            <td></td>\n",
       "            <td></td>\n",
       "        </tr>\n",
       "        <tr>\n",
       "            <td>5</td>\n",
       "            <td>2023-03-09 04:04:11</td>\n",
       "            <td></td>\n",
       "            <td>en</td>\n",
       "            <td></td>\n",
       "            <td>19614</td>\n",
       "            <td>2023-03-09 02:20:27</td>\n",
       "            <td>2023-03-10 03:29:10</td>\n",
       "            <td>210.80.74.72</td>\n",
       "            <td>5</td>\n",
       "            <td>Popular something task discover. Six exactly source spend last.</td>\n",
       "            <td></td>\n",
       "            <td></td>\n",
       "        </tr>\n",
       "    </tbody>\n",
       "</table>"
      ],
      "text/plain": [
       "[(1, datetime.datetime(2023, 3, 7, 18, 23, 10), '', 'en', '', '1eef3', datetime.datetime(2023, 3, 4, 6, 33, 57), datetime.datetime(2023, 3, 10, 3, 29, 9), '20.134.168.36', 2, 'Process necessary leader deep. Race size out production pass.', '', ''),\n",
       " (2, datetime.datetime(2023, 3, 6, 4, 8, 1), '', 'en', '', 'b2d77', datetime.datetime(2023, 3, 3, 18, 12, 55), datetime.datetime(2023, 3, 10, 3, 29, 9), '38.118.119.251', 2, 'Entire nearly prove see else include service.', '', ''),\n",
       " (3, datetime.datetime(2023, 3, 6, 5, 32, 40), '', 'en', '', '94eab', datetime.datetime(2023, 3, 2, 14, 16, 59), datetime.datetime(2023, 3, 10, 3, 29, 9), '65.248.2.179', 3, 'Prove information finish floor party. City second one. Deal never box second top building.', '', ''),\n",
       " (4, datetime.datetime(2023, 3, 9, 12, 35, 57), '', 'en', '', 'c03f3', datetime.datetime(2023, 3, 7, 3, 23, 15), datetime.datetime(2023, 3, 10, 3, 29, 9), '159.145.242.156', 3, 'Least class side local sure room would. Class view share soon. Strong have impact myself.', '', ''),\n",
       " (5, datetime.datetime(2023, 3, 9, 4, 4, 11), '', 'en', '', '19614', datetime.datetime(2023, 3, 9, 2, 20, 27), datetime.datetime(2023, 3, 10, 3, 29, 10), '210.80.74.72', 5, 'Popular something task discover. Six exactly source spend last.', '', '')]"
      ]
     },
     "execution_count": 11,
     "metadata": {},
     "output_type": "execute_result"
    }
   ],
   "source": [
    "%sql SELECT * FROM responses LIMIT 5"
   ]
  },
  {
   "cell_type": "markdown",
   "metadata": {},
   "source": [
    "### Show tally for multiple choice question"
   ]
  },
  {
   "cell_type": "code",
   "execution_count": 12,
   "metadata": {},
   "outputs": [
    {
     "name": "stdout",
     "output_type": "stream",
     "text": [
      "*  duckdb://\n",
      "Done.\n"
     ]
    },
    {
     "data": {
      "text/html": [
       "<table>\n",
       "    <thead>\n",
       "        <tr>\n",
       "            <th>G01Q02</th>\n",
       "            <th>TOTAL</th>\n",
       "        </tr>\n",
       "    </thead>\n",
       "    <tbody>\n",
       "        <tr>\n",
       "            <td>1</td>\n",
       "            <td>15</td>\n",
       "        </tr>\n",
       "        <tr>\n",
       "            <td>2</td>\n",
       "            <td>22</td>\n",
       "        </tr>\n",
       "        <tr>\n",
       "            <td>3</td>\n",
       "            <td>24</td>\n",
       "        </tr>\n",
       "        <tr>\n",
       "            <td>4</td>\n",
       "            <td>16</td>\n",
       "        </tr>\n",
       "        <tr>\n",
       "            <td>5</td>\n",
       "            <td>23</td>\n",
       "        </tr>\n",
       "    </tbody>\n",
       "</table>"
      ],
      "text/plain": [
       "[(1, 15), (2, 22), (3, 24), (4, 16), (5, 23)]"
      ]
     },
     "execution_count": 12,
     "metadata": {},
     "output_type": "execute_result"
    }
   ],
   "source": [
    "%sql SELECT G01Q02, count(1) as TOTAL FROM responses GROUP BY G01Q02"
   ]
  },
  {
   "cell_type": "markdown",
   "metadata": {},
   "source": [
    "### Show which respondents took the longest to submit their responses"
   ]
  },
  {
   "cell_type": "code",
   "execution_count": 13,
   "metadata": {},
   "outputs": [
    {
     "name": "stdout",
     "output_type": "stream",
     "text": [
      "*  duckdb://\n",
      "Done.\n"
     ]
    },
    {
     "data": {
      "text/html": [
       "<table>\n",
       "    <thead>\n",
       "        <tr>\n",
       "            <th>token</th>\n",
       "            <th>duration</th>\n",
       "        </tr>\n",
       "    </thead>\n",
       "    <tbody>\n",
       "        <tr>\n",
       "            <td>73f22</td>\n",
       "            <td>8 days, 11:36:09</td>\n",
       "        </tr>\n",
       "        <tr>\n",
       "            <td>88776</td>\n",
       "            <td>7 days, 18:01:13</td>\n",
       "        </tr>\n",
       "        <tr>\n",
       "            <td>8702e</td>\n",
       "            <td>7 days, 7:57:42</td>\n",
       "        </tr>\n",
       "        <tr>\n",
       "            <td>cc1e5</td>\n",
       "            <td>6 days, 21:10:36</td>\n",
       "        </tr>\n",
       "        <tr>\n",
       "            <td>784f3</td>\n",
       "            <td>5 days, 20:46:05</td>\n",
       "        </tr>\n",
       "        <tr>\n",
       "            <td>9bf3a</td>\n",
       "            <td>5 days, 11:32:52</td>\n",
       "        </tr>\n",
       "        <tr>\n",
       "            <td>13d11</td>\n",
       "            <td>5 days, 4:06:41</td>\n",
       "        </tr>\n",
       "        <tr>\n",
       "            <td>2a1b3</td>\n",
       "            <td>4 days, 22:08:44</td>\n",
       "        </tr>\n",
       "        <tr>\n",
       "            <td>18b1c</td>\n",
       "            <td>4 days, 16:13:30</td>\n",
       "        </tr>\n",
       "        <tr>\n",
       "            <td>518f7</td>\n",
       "            <td>4 days, 13:50:48</td>\n",
       "        </tr>\n",
       "    </tbody>\n",
       "</table>"
      ],
      "text/plain": [
       "[('73f22', datetime.timedelta(days=8, seconds=41769)),\n",
       " ('88776', datetime.timedelta(days=7, seconds=64873)),\n",
       " ('8702e', datetime.timedelta(days=7, seconds=28662)),\n",
       " ('cc1e5', datetime.timedelta(days=6, seconds=76236)),\n",
       " ('784f3', datetime.timedelta(days=5, seconds=74765)),\n",
       " ('9bf3a', datetime.timedelta(days=5, seconds=41572)),\n",
       " ('13d11', datetime.timedelta(days=5, seconds=14801)),\n",
       " ('2a1b3', datetime.timedelta(days=4, seconds=79724)),\n",
       " ('18b1c', datetime.timedelta(days=4, seconds=58410)),\n",
       " ('518f7', datetime.timedelta(days=4, seconds=49848))]"
      ]
     },
     "execution_count": 13,
     "metadata": {},
     "output_type": "execute_result"
    }
   ],
   "source": [
    "%sql SELECT token, submitdate - startdate AS duration FROM responses ORDER BY 2 DESC LIMIT 10"
   ]
  }
 ],
 "metadata": {
  "interpreter": {
   "hash": "e42460aa157cec94adf3a7ea7787d76efe56844a218e5f20aa94deb227ae85b8"
  },
  "kernelspec": {
   "display_name": "Python 3 (ipykernel)",
   "language": "python",
   "name": "python3"
  },
  "language_info": {
   "codemirror_mode": {
    "name": "ipython",
    "version": 3
   },
   "file_extension": ".py",
   "mimetype": "text/x-python",
   "name": "python",
   "nbconvert_exporter": "python",
   "pygments_lexer": "ipython3",
   "version": "3.8.12"
  }
 },
 "nbformat": 4,
 "nbformat_minor": 4
}
