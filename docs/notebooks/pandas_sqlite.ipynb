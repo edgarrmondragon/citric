{
 "cells": [
  {
   "cell_type": "markdown",
   "metadata": {},
   "source": [
    "# Download responses and save them to SQLite"
   ]
  },
  {
   "cell_type": "code",
   "execution_count": 1,
   "metadata": {
    "editable": true,
    "slideshow": {
     "slide_type": ""
    },
    "tags": [
     "remove-output"
    ]
   },
   "outputs": [],
   "source": [
    "!pip install --upgrade citric pip pandas faker sqlalchemy --quiet"
   ]
  },
  {
   "cell_type": "code",
   "execution_count": 2,
   "metadata": {
    "tags": [
     "remove-output"
    ]
   },
   "outputs": [],
   "source": [
    "import io\n",
    "from pathlib import Path\n",
    "\n",
    "import pandas as pd\n",
    "from faker import Faker\n",
    "from sqlalchemy import create_engine\n",
    "\n",
    "import citric"
   ]
  },
  {
   "cell_type": "markdown",
   "metadata": {},
   "source": [
    "## Create citric client"
   ]
  },
  {
   "cell_type": "code",
   "execution_count": 3,
   "metadata": {},
   "outputs": [],
   "source": [
    "# Use your own server's parameters here\n",
    "client = citric.Client(\n",
    "    \"http://localhost:8001/index.php/admin/remotecontrol\",\n",
    "    \"iamadmin\",\n",
    "    \"secret\",\n",
    ")"
   ]
  },
  {
   "cell_type": "markdown",
   "metadata": {},
   "source": [
    "## Load survey file"
   ]
  },
  {
   "cell_type": "code",
   "execution_count": 4,
   "metadata": {},
   "outputs": [],
   "source": [
    "with Path(\"../../examples/survey.lss\").open(\"rb\") as f:\n",
    "    survey_id = client.import_survey(f)"
   ]
  },
  {
   "cell_type": "markdown",
   "metadata": {},
   "source": [
    "## Activate survey and load fake responses"
   ]
  },
  {
   "cell_type": "code",
   "execution_count": 5,
   "metadata": {},
   "outputs": [],
   "source": [
    "faker = Faker()\n",
    "\n",
    "client.activate_survey(\n",
    "    survey_id,\n",
    "    user_activation_settings={\n",
    "        \"datestamp\": True,\n",
    "    },\n",
    ")\n",
    "client.activate_tokens(survey_id)\n",
    "\n",
    "data = [\n",
    "    {\n",
    "        \"G01Q01\": faker.text(max_nb_chars=100),\n",
    "        \"G01Q02\": faker.random_int(1, 5),\n",
    "        \"token\": faker.sha1()[:5],\n",
    "        \"ipaddr\": faker.ipv4(),\n",
    "    }\n",
    "    for _ in range(100)\n",
    "]\n",
    "\n",
    "result = client.add_responses(survey_id, data)"
   ]
  },
  {
   "cell_type": "code",
   "execution_count": 6,
   "metadata": {},
   "outputs": [],
   "source": [
    "with io.BytesIO() as file:\n",
    "    file.write(client.export_responses(survey_id, file_format=\"csv\"))\n",
    "    file.seek(0)\n",
    "    responses_df = pd.read_csv(\n",
    "        file,\n",
    "        delimiter=\";\",\n",
    "        parse_dates=[\"datestamp\", \"startdate\", \"submitdate\"],\n",
    "        index_col=\"id\",\n",
    "    )\n",
    "\n",
    "engine = create_engine(\"sqlite:///responses.db\")"
   ]
  },
  {
   "cell_type": "code",
   "execution_count": 7,
   "metadata": {},
   "outputs": [
    {
     "data": {
      "text/html": [
       "<div>\n",
       "<style scoped>\n",
       "    .dataframe tbody tr th:only-of-type {\n",
       "        vertical-align: middle;\n",
       "    }\n",
       "\n",
       "    .dataframe tbody tr th {\n",
       "        vertical-align: top;\n",
       "    }\n",
       "\n",
       "    .dataframe thead th {\n",
       "        text-align: right;\n",
       "    }\n",
       "</style>\n",
       "<table border=\"1\" class=\"dataframe\">\n",
       "  <thead>\n",
       "    <tr style=\"text-align: right;\">\n",
       "      <th></th>\n",
       "      <th>submitdate</th>\n",
       "      <th>lastpage</th>\n",
       "      <th>startlanguage</th>\n",
       "      <th>seed</th>\n",
       "      <th>token</th>\n",
       "      <th>startdate</th>\n",
       "      <th>datestamp</th>\n",
       "      <th>G01Q01</th>\n",
       "      <th>G01Q02</th>\n",
       "      <th>G02Q03</th>\n",
       "      <th>G02Q03[filecount]</th>\n",
       "    </tr>\n",
       "    <tr>\n",
       "      <th>id</th>\n",
       "      <th></th>\n",
       "      <th></th>\n",
       "      <th></th>\n",
       "      <th></th>\n",
       "      <th></th>\n",
       "      <th></th>\n",
       "      <th></th>\n",
       "      <th></th>\n",
       "      <th></th>\n",
       "      <th></th>\n",
       "      <th></th>\n",
       "    </tr>\n",
       "  </thead>\n",
       "  <tbody>\n",
       "    <tr>\n",
       "      <th>1</th>\n",
       "      <td>2024-02-08 17:19:28</td>\n",
       "      <td>NaN</td>\n",
       "      <td>en</td>\n",
       "      <td>NaN</td>\n",
       "      <td>53afb</td>\n",
       "      <td>2024-02-08 17:19:28</td>\n",
       "      <td>2024-02-08 17:19:28</td>\n",
       "      <td>Score soldier network station edge. Degree mil...</td>\n",
       "      <td>5</td>\n",
       "      <td>NaN</td>\n",
       "      <td>NaN</td>\n",
       "    </tr>\n",
       "    <tr>\n",
       "      <th>2</th>\n",
       "      <td>2024-02-08 17:19:28</td>\n",
       "      <td>NaN</td>\n",
       "      <td>en</td>\n",
       "      <td>NaN</td>\n",
       "      <td>c36b3</td>\n",
       "      <td>2024-02-08 17:19:28</td>\n",
       "      <td>2024-02-08 17:19:28</td>\n",
       "      <td>Half college hospital. Sell matter two phone r...</td>\n",
       "      <td>3</td>\n",
       "      <td>NaN</td>\n",
       "      <td>NaN</td>\n",
       "    </tr>\n",
       "    <tr>\n",
       "      <th>3</th>\n",
       "      <td>2024-02-08 17:19:28</td>\n",
       "      <td>NaN</td>\n",
       "      <td>en</td>\n",
       "      <td>NaN</td>\n",
       "      <td>f99a1</td>\n",
       "      <td>2024-02-08 17:19:28</td>\n",
       "      <td>2024-02-08 17:19:28</td>\n",
       "      <td>Sense executive eye five fill. Technology hear...</td>\n",
       "      <td>2</td>\n",
       "      <td>NaN</td>\n",
       "      <td>NaN</td>\n",
       "    </tr>\n",
       "    <tr>\n",
       "      <th>4</th>\n",
       "      <td>2024-02-08 17:19:28</td>\n",
       "      <td>NaN</td>\n",
       "      <td>en</td>\n",
       "      <td>NaN</td>\n",
       "      <td>f8311</td>\n",
       "      <td>2024-02-08 17:19:28</td>\n",
       "      <td>2024-02-08 17:19:28</td>\n",
       "      <td>Score people half. Only center team care radio...</td>\n",
       "      <td>2</td>\n",
       "      <td>NaN</td>\n",
       "      <td>NaN</td>\n",
       "    </tr>\n",
       "    <tr>\n",
       "      <th>5</th>\n",
       "      <td>2024-02-08 17:19:28</td>\n",
       "      <td>NaN</td>\n",
       "      <td>en</td>\n",
       "      <td>NaN</td>\n",
       "      <td>676a2</td>\n",
       "      <td>2024-02-08 17:19:28</td>\n",
       "      <td>2024-02-08 17:19:28</td>\n",
       "      <td>Church clear of. Wear too way I. Expert everyt...</td>\n",
       "      <td>5</td>\n",
       "      <td>NaN</td>\n",
       "      <td>NaN</td>\n",
       "    </tr>\n",
       "  </tbody>\n",
       "</table>\n",
       "</div>"
      ],
      "text/plain": [
       "            submitdate  lastpage startlanguage  seed  token  \\\n",
       "id                                                            \n",
       "1  2024-02-08 17:19:28       NaN            en   NaN  53afb   \n",
       "2  2024-02-08 17:19:28       NaN            en   NaN  c36b3   \n",
       "3  2024-02-08 17:19:28       NaN            en   NaN  f99a1   \n",
       "4  2024-02-08 17:19:28       NaN            en   NaN  f8311   \n",
       "5  2024-02-08 17:19:28       NaN            en   NaN  676a2   \n",
       "\n",
       "             startdate           datestamp  \\\n",
       "id                                           \n",
       "1  2024-02-08 17:19:28 2024-02-08 17:19:28   \n",
       "2  2024-02-08 17:19:28 2024-02-08 17:19:28   \n",
       "3  2024-02-08 17:19:28 2024-02-08 17:19:28   \n",
       "4  2024-02-08 17:19:28 2024-02-08 17:19:28   \n",
       "5  2024-02-08 17:19:28 2024-02-08 17:19:28   \n",
       "\n",
       "                                               G01Q01  G01Q02  G02Q03  \\\n",
       "id                                                                      \n",
       "1   Score soldier network station edge. Degree mil...       5     NaN   \n",
       "2   Half college hospital. Sell matter two phone r...       3     NaN   \n",
       "3   Sense executive eye five fill. Technology hear...       2     NaN   \n",
       "4   Score people half. Only center team care radio...       2     NaN   \n",
       "5   Church clear of. Wear too way I. Expert everyt...       5     NaN   \n",
       "\n",
       "    G02Q03[filecount]  \n",
       "id                     \n",
       "1                 NaN  \n",
       "2                 NaN  \n",
       "3                 NaN  \n",
       "4                 NaN  \n",
       "5                 NaN  "
      ]
     },
     "execution_count": 7,
     "metadata": {},
     "output_type": "execute_result"
    }
   ],
   "source": [
    "responses_df.head()"
   ]
  },
  {
   "cell_type": "code",
   "execution_count": 8,
   "metadata": {},
   "outputs": [
    {
     "data": {
      "text/plain": [
       "100"
      ]
     },
     "execution_count": 8,
     "metadata": {},
     "output_type": "execute_result"
    }
   ],
   "source": [
    "responses_df.to_sql(\"responses\", engine, if_exists=\"replace\")"
   ]
  },
  {
   "cell_type": "code",
   "execution_count": 9,
   "metadata": {},
   "outputs": [
    {
     "data": {
      "text/plain": [
       "{'status': 'OK'}"
      ]
     },
     "execution_count": 9,
     "metadata": {},
     "output_type": "execute_result"
    }
   ],
   "source": [
    "client.delete_survey(survey_id)"
   ]
  }
 ],
 "metadata": {
  "interpreter": {
   "hash": "e42460aa157cec94adf3a7ea7787d76efe56844a218e5f20aa94deb227ae85b8"
  },
  "kernelspec": {
   "display_name": "Python 3 (ipykernel)",
   "language": "python",
   "name": "python3"
  },
  "language_info": {
   "codemirror_mode": {
    "name": "ipython",
    "version": 3
   },
   "file_extension": ".py",
   "mimetype": "text/x-python",
   "name": "python",
   "nbconvert_exporter": "python",
   "pygments_lexer": "ipython3",
   "version": "3.11.8"
  }
 },
 "nbformat": 4,
 "nbformat_minor": 4
}
