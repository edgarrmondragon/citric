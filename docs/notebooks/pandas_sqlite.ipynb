{
 "cells": [
  {
   "cell_type": "markdown",
   "metadata": {},
   "source": [
    "# Download responses and save them to SQLite"
   ]
  },
  {
   "cell_type": "code",
   "execution_count": 1,
   "metadata": {},
   "outputs": [
    {
     "name": "stdout",
     "output_type": "stream",
     "text": [
      "Requirement already satisfied: pip in /root/.cache/pypoetry/virtualenvs/citric-9TtSrW0h-py3.9/lib/python3.9/site-packages (22.0.3)\n",
      "Requirement already satisfied: pandas in /root/.cache/pypoetry/virtualenvs/citric-9TtSrW0h-py3.9/lib/python3.9/site-packages (1.4.0)\n",
      "Requirement already satisfied: faker in /root/.cache/pypoetry/virtualenvs/citric-9TtSrW0h-py3.9/lib/python3.9/site-packages (12.1.0)\n",
      "Requirement already satisfied: sqlalchemy in /root/.cache/pypoetry/virtualenvs/citric-9TtSrW0h-py3.9/lib/python3.9/site-packages (1.4.31)\n",
      "Requirement already satisfied: python-dateutil>=2.8.1 in /root/.cache/pypoetry/virtualenvs/citric-9TtSrW0h-py3.9/lib/python3.9/site-packages (from pandas) (2.8.2)\n",
      "Requirement already satisfied: numpy>=1.18.5 in /root/.cache/pypoetry/virtualenvs/citric-9TtSrW0h-py3.9/lib/python3.9/site-packages (from pandas) (1.22.2)\n",
      "Requirement already satisfied: pytz>=2020.1 in /root/.cache/pypoetry/virtualenvs/citric-9TtSrW0h-py3.9/lib/python3.9/site-packages (from pandas) (2021.3)\n",
      "Requirement already satisfied: greenlet!=0.4.17 in /root/.cache/pypoetry/virtualenvs/citric-9TtSrW0h-py3.9/lib/python3.9/site-packages (from sqlalchemy) (1.1.2)\n",
      "Requirement already satisfied: six>=1.5 in /root/.cache/pypoetry/virtualenvs/citric-9TtSrW0h-py3.9/lib/python3.9/site-packages (from python-dateutil>=2.8.1->pandas) (1.16.0)\n"
     ]
    }
   ],
   "source": [
    "!pip install --upgrade pip pandas faker sqlalchemy"
   ]
  },
  {
   "cell_type": "code",
   "execution_count": 2,
   "metadata": {},
   "outputs": [],
   "source": [
    "import io\n",
    "import os\n",
    "from pathlib import Path\n",
    "\n",
    "import pandas as pd\n",
    "from faker import Faker\n",
    "from sqlalchemy import create_engine\n",
    "\n",
    "import citric"
   ]
  },
  {
   "cell_type": "code",
   "execution_count": 3,
   "metadata": {},
   "outputs": [],
   "source": [
    "LS_URL = os.environ[\"LIMESURVEY_URL\"]\n",
    "LS_USERNAME = os.environ[\"LIMESURVEY_USERNAME\"]\n",
    "LS_PASSWORD = os.environ[\"LIMESURVEY_PASSWORD\"]"
   ]
  },
  {
   "cell_type": "markdown",
   "metadata": {},
   "source": [
    "## Create citric client"
   ]
  },
  {
   "cell_type": "code",
   "execution_count": 4,
   "metadata": {},
   "outputs": [],
   "source": [
    "client = citric.Client(LS_URL, LS_USERNAME, LS_PASSWORD)"
   ]
  },
  {
   "cell_type": "markdown",
   "metadata": {},
   "source": [
    "## Load survey file"
   ]
  },
  {
   "cell_type": "code",
   "execution_count": 5,
   "metadata": {},
   "outputs": [],
   "source": [
    "with Path(\"../../examples/survey.lss\").open(\"rb\") as f:\n",
    "    survey_id = client.import_survey(f)"
   ]
  },
  {
   "cell_type": "markdown",
   "metadata": {},
   "source": [
    "## Activate survey and load fake responses"
   ]
  },
  {
   "cell_type": "code",
   "execution_count": 6,
   "metadata": {},
   "outputs": [],
   "source": [
    "faker = Faker()\n",
    "\n",
    "client.activate_survey(survey_id)\n",
    "client.activate_tokens(survey_id)\n",
    "\n",
    "data = [\n",
    "    {\n",
    "        \"G01Q01\": faker.text(max_nb_chars=100),\n",
    "        \"G01Q02\": faker.random_int(1, 5),\n",
    "        \"token\": faker.sha1()[:5],\n",
    "        \"ipaddr\": faker.ipv4(),\n",
    "    }\n",
    "    for _ in range(100)\n",
    "]\n",
    "\n",
    "result = client.add_responses(survey_id, data)"
   ]
  },
  {
   "cell_type": "code",
   "execution_count": 7,
   "metadata": {},
   "outputs": [
    {
     "data": {
      "text/plain": [
       "100"
      ]
     },
     "execution_count": 7,
     "metadata": {},
     "output_type": "execute_result"
    }
   ],
   "source": [
    "with io.BytesIO() as file:\n",
    "    file.write(client.export_responses(survey_id, file_format=\"csv\"))\n",
    "    file.seek(0)\n",
    "    responses_df = pd.read_csv(\n",
    "        file,\n",
    "        delimiter=\";\",\n",
    "        parse_dates=[\"datestamp\", \"startdate\", \"submitdate\"],\n",
    "        index_col=\"id\",\n",
    "    )\n",
    "\n",
    "engine = create_engine(\"sqlite:///responses.db\")\n",
    "responses_df.to_sql(\"responses\", engine, if_exists=\"replace\")"
   ]
  },
  {
   "cell_type": "code",
   "execution_count": 8,
   "metadata": {},
   "outputs": [
    {
     "data": {
      "text/plain": [
       "{'status': 'OK'}"
      ]
     },
     "execution_count": 8,
     "metadata": {},
     "output_type": "execute_result"
    }
   ],
   "source": [
    "client.delete_survey(survey_id)"
   ]
  }
 ],
 "metadata": {
  "interpreter": {
   "hash": "e42460aa157cec94adf3a7ea7787d76efe56844a218e5f20aa94deb227ae85b8"
  },
  "kernelspec": {
   "display_name": "Python 3 (ipykernel)",
   "language": "python",
   "name": "python3"
  },
  "language_info": {
   "codemirror_mode": {
    "name": "ipython",
    "version": 3
   },
   "file_extension": ".py",
   "mimetype": "text/x-python",
   "name": "python",
   "nbconvert_exporter": "python",
   "pygments_lexer": "ipython3",
   "version": "3.9.10"
  }
 },
 "nbformat": 4,
 "nbformat_minor": 4
}
