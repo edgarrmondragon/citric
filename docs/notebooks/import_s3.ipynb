{
 "cells": [
  {
   "cell_type": "markdown",
   "id": "dbbc7b33-12c5-4d89-90ca-860326c7cc6e",
   "metadata": {},
   "source": [
    "# Import a survey file from S3"
   ]
  },
  {
   "cell_type": "code",
   "execution_count": 1,
   "id": "8fb76dba-d52e-48af-b5d6-1a17783fa0b5",
   "metadata": {
    "tags": []
   },
   "outputs": [
    {
     "name": "stdout",
     "output_type": "stream",
     "text": [
      "Requirement already satisfied: pip in /root/.cache/pypoetry/virtualenvs/citric-9TtSrW0h-py3.9/lib/python3.9/site-packages (22.0.3)\n",
      "Requirement already satisfied: boto3 in /root/.cache/pypoetry/virtualenvs/citric-9TtSrW0h-py3.9/lib/python3.9/site-packages (1.20.49)\n",
      "Requirement already satisfied: s3transfer<0.6.0,>=0.5.0 in /root/.cache/pypoetry/virtualenvs/citric-9TtSrW0h-py3.9/lib/python3.9/site-packages (from boto3) (0.5.1)\n",
      "Requirement already satisfied: jmespath<1.0.0,>=0.7.1 in /root/.cache/pypoetry/virtualenvs/citric-9TtSrW0h-py3.9/lib/python3.9/site-packages (from boto3) (0.10.0)\n",
      "Requirement already satisfied: botocore<1.24.0,>=1.23.49 in /root/.cache/pypoetry/virtualenvs/citric-9TtSrW0h-py3.9/lib/python3.9/site-packages (from boto3) (1.23.49)\n",
      "Requirement already satisfied: python-dateutil<3.0.0,>=2.1 in /root/.cache/pypoetry/virtualenvs/citric-9TtSrW0h-py3.9/lib/python3.9/site-packages (from botocore<1.24.0,>=1.23.49->boto3) (2.8.2)\n",
      "Requirement already satisfied: urllib3<1.27,>=1.25.4 in /root/.cache/pypoetry/virtualenvs/citric-9TtSrW0h-py3.9/lib/python3.9/site-packages (from botocore<1.24.0,>=1.23.49->boto3) (1.26.8)\n",
      "Requirement already satisfied: six>=1.5 in /root/.cache/pypoetry/virtualenvs/citric-9TtSrW0h-py3.9/lib/python3.9/site-packages (from python-dateutil<3.0.0,>=2.1->botocore<1.24.0,>=1.23.49->boto3) (1.16.0)\n"
     ]
    }
   ],
   "source": [
    "!pip install --upgrade pip boto3"
   ]
  },
  {
   "cell_type": "code",
   "execution_count": 2,
   "id": "586edf3b-741b-4c11-bb52-fafa18feec1d",
   "metadata": {},
   "outputs": [],
   "source": [
    "import io\n",
    "import logging\n",
    "import os\n",
    "\n",
    "import boto3\n",
    "from IPython.display import HTML\n",
    "\n",
    "import citric"
   ]
  },
  {
   "cell_type": "code",
   "execution_count": 3,
   "id": "2598031b-31be-4975-b2db-0ebb20d87b28",
   "metadata": {},
   "outputs": [
    {
     "data": {
      "text/plain": [
       "'0.0.8'"
      ]
     },
     "execution_count": 3,
     "metadata": {},
     "output_type": "execute_result"
    }
   ],
   "source": [
    "citric.__version__"
   ]
  },
  {
   "cell_type": "markdown",
   "id": "fd7cf1aa-88fc-4cb6-9dac-ab5a37fd947a",
   "metadata": {
    "tags": []
   },
   "source": [
    "## Set up logging"
   ]
  },
  {
   "cell_type": "code",
   "execution_count": 4,
   "id": "c818e679-6a88-40c0-8470-69083f074a0a",
   "metadata": {},
   "outputs": [],
   "source": [
    "formatter = logging.Formatter(\"{asctime} {levelname} {message}\", style=\"{\")\n",
    "\n",
    "handler = logging.StreamHandler()\n",
    "handler.setFormatter(formatter)\n",
    "\n",
    "logger = logging.getLogger(\"citric\")\n",
    "logger.addHandler(handler)\n",
    "logger.setLevel(logging.DEBUG)"
   ]
  },
  {
   "cell_type": "code",
   "execution_count": 5,
   "id": "97821189",
   "metadata": {},
   "outputs": [],
   "source": [
    "LS_URL = os.environ[\"LIMESURVEY_URL\"]\n",
    "LS_USERNAME = os.environ[\"LIMESURVEY_USERNAME\"]\n",
    "LS_PASSWORD = os.environ[\"LIMESURVEY_PASSWORD\"]"
   ]
  },
  {
   "cell_type": "markdown",
   "id": "739b1813-7516-4899-b714-126d05f65174",
   "metadata": {},
   "source": [
    "## Move survey file to S3\n",
    "\n",
    "- Setup S3 client\n",
    "- Create a new bucket\n",
    "- Upload file from local path"
   ]
  },
  {
   "cell_type": "code",
   "execution_count": 6,
   "id": "f45aa557-778a-426b-b227-e5418b9ab719",
   "metadata": {},
   "outputs": [
    {
     "name": "stdout",
     "output_type": "stream",
     "text": [
      "free_text.lsq  limesurvey_survey_432535.lss  survey.lss\n"
     ]
    }
   ],
   "source": [
    "!ls ../../examples"
   ]
  },
  {
   "cell_type": "code",
   "execution_count": 7,
   "id": "622990b0-6e1c-4431-b7e1-02a7bc2688a4",
   "metadata": {},
   "outputs": [],
   "source": [
    "s3 = boto3.client(\"s3\", endpoint_url=\"http://storage:9000\")\n",
    "\n",
    "s3.create_bucket(Bucket=\"testing\")\n",
    "s3.upload_file(\"../../examples/survey.lss\", \"testing\", \"survey.lss\")"
   ]
  },
  {
   "cell_type": "markdown",
   "id": "b36eccb7-80cd-4843-bf59-2a6af0841192",
   "metadata": {},
   "source": [
    "## Upload survey from S3\n",
    "\n",
    "- Start `citric` client\n",
    "- Download file from S3\n",
    "- Import survey from S3 file\n",
    "- Display survey questions"
   ]
  },
  {
   "cell_type": "code",
   "execution_count": 8,
   "id": "5e7307f5-b872-4468-baaf-13eff990d345",
   "metadata": {},
   "outputs": [
    {
     "name": "stderr",
     "output_type": "stream",
     "text": [
      "2022-02-05 23:38:07,086 INFO Invoked RPC method get_session_key with ID 321389\n",
      "2022-02-05 23:38:18,549 INFO Invoked RPC method import_survey with ID 306084\n",
      "2022-02-05 23:38:19,266 INFO Invoked RPC method list_questions with ID 478053\n"
     ]
    },
    {
     "data": {
      "text/html": [
       "<p>Text for <strong>second question</strong></p><hr>"
      ],
      "text/plain": [
       "<IPython.core.display.HTML object>"
      ]
     },
     "metadata": {},
     "output_type": "display_data"
    },
    {
     "data": {
      "text/html": [
       "<p>Text for <strong>first question</strong></p><hr>"
      ],
      "text/plain": [
       "<IPython.core.display.HTML object>"
      ]
     },
     "metadata": {},
     "output_type": "display_data"
    },
    {
     "data": {
      "text/html": [
       "<p>Please upload a text file</p><p>A file with <strong>.txt</strong> extension</p><hr>"
      ],
      "text/plain": [
       "<IPython.core.display.HTML object>"
      ]
     },
     "metadata": {},
     "output_type": "display_data"
    },
    {
     "name": "stderr",
     "output_type": "stream",
     "text": [
      "2022-02-05 23:38:19,840 INFO Invoked RPC method release_session_key with ID 522063\n"
     ]
    }
   ],
   "source": [
    "with citric.Client(LS_URL, LS_USERNAME, LS_PASSWORD) as client:\n",
    "    file_object = io.BytesIO()\n",
    "    s3.download_fileobj(\"testing\", \"survey.lss\", file_object)\n",
    "\n",
    "    file_object.seek(0)\n",
    "    survey_id = client.import_survey(file_object)\n",
    "    questions = client.list_questions(survey_id)\n",
    "\n",
    "    for question in questions:\n",
    "        display(HTML(question[\"question\"] + question[\"help\"] + \"<hr>\"))"
   ]
  },
  {
   "cell_type": "markdown",
   "id": "a09bf309-98d5-4fbc-897e-ebe4b0c78d01",
   "metadata": {},
   "source": [
    "## Cleanup\n",
    "\n",
    "- Delete bucket\n",
    "- Delete survey"
   ]
  },
  {
   "cell_type": "code",
   "execution_count": 9,
   "id": "0be47c6a-d219-4828-b92d-8f5f6763a4ca",
   "metadata": {},
   "outputs": [
    {
     "name": "stderr",
     "output_type": "stream",
     "text": [
      "2022-02-05 23:38:24,724 INFO Invoked RPC method get_session_key with ID 24642\n",
      "2022-02-05 23:38:25,890 INFO Invoked RPC method delete_survey with ID 239814\n",
      "2022-02-05 23:38:26,447 INFO Invoked RPC method release_session_key with ID 154651\n"
     ]
    }
   ],
   "source": [
    "s3.delete_object(Bucket=\"testing\", Key=\"survey.lss\")\n",
    "s3.delete_bucket(Bucket=\"testing\")\n",
    "\n",
    "with citric.Client(LS_URL, LS_USERNAME, LS_PASSWORD) as client:\n",
    "    client.delete_survey(survey_id)"
   ]
  }
 ],
 "metadata": {
  "kernelspec": {
   "display_name": "Python 3 (ipykernel)",
   "language": "python",
   "name": "python3"
  },
  "language_info": {
   "codemirror_mode": {
    "name": "ipython",
    "version": 3
   },
   "file_extension": ".py",
   "mimetype": "text/x-python",
   "name": "python",
   "nbconvert_exporter": "python",
   "pygments_lexer": "ipython3",
   "version": "3.10.4"
  }
 },
 "nbformat": 4,
 "nbformat_minor": 5
}
