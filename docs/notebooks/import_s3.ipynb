{
 "cells": [
  {
   "cell_type": "markdown",
   "id": "dbbc7b33-12c5-4d89-90ca-860326c7cc6e",
   "metadata": {},
   "source": [
    "# Import a survey file from S3"
   ]
  },
  {
   "cell_type": "code",
   "execution_count": 1,
   "id": "8fb76dba-d52e-48af-b5d6-1a17783fa0b5",
   "metadata": {
    "tags": []
   },
   "outputs": [],
   "source": [
    "!pip install --upgrade pip boto3 citric --quiet"
   ]
  },
  {
   "cell_type": "code",
   "execution_count": 2,
   "id": "586edf3b-741b-4c11-bb52-fafa18feec1d",
   "metadata": {},
   "outputs": [],
   "source": [
    "import io\n",
    "import logging\n",
    "\n",
    "import boto3\n",
    "from IPython.display import HTML\n",
    "\n",
    "import citric"
   ]
  },
  {
   "cell_type": "markdown",
   "id": "fd7cf1aa-88fc-4cb6-9dac-ab5a37fd947a",
   "metadata": {
    "tags": []
   },
   "source": [
    "## Set up logging"
   ]
  },
  {
   "cell_type": "code",
   "execution_count": 3,
   "id": "c818e679-6a88-40c0-8470-69083f074a0a",
   "metadata": {},
   "outputs": [],
   "source": [
    "formatter = logging.Formatter(\"{asctime} {levelname} {message}\", style=\"{\")\n",
    "\n",
    "handler = logging.StreamHandler()\n",
    "handler.setFormatter(formatter)\n",
    "\n",
    "logger = logging.getLogger(\"citric\")\n",
    "logger.addHandler(handler)\n",
    "logger.setLevel(logging.DEBUG)"
   ]
  },
  {
   "cell_type": "markdown",
   "id": "739b1813-7516-4899-b714-126d05f65174",
   "metadata": {},
   "source": [
    "## Move survey file to S3\n",
    "\n",
    "- Setup S3 client\n",
    "- Create a new bucket\n",
    "- Upload file from local path"
   ]
  },
  {
   "cell_type": "code",
   "execution_count": 4,
   "id": "f45aa557-778a-426b-b227-e5418b9ab719",
   "metadata": {},
   "outputs": [
    {
     "name": "stdout",
     "output_type": "stream",
     "text": [
      "free_text.lsq                limesurvey_survey_432535.lss\n",
      "group.lsg                    survey.lss\n"
     ]
    }
   ],
   "source": [
    "!ls ../../examples"
   ]
  },
  {
   "cell_type": "code",
   "execution_count": 5,
   "id": "622990b0-6e1c-4431-b7e1-02a7bc2688a4",
   "metadata": {},
   "outputs": [],
   "source": [
    "s3 = boto3.client(\"s3\")\n",
    "\n",
    "# use your own bucket name here\n",
    "s3.create_bucket(Bucket=\"testing\")\n",
    "s3.upload_file(\"../../examples/survey.lss\", \"testing\", \"survey.lss\")"
   ]
  },
  {
   "cell_type": "markdown",
   "id": "b36eccb7-80cd-4843-bf59-2a6af0841192",
   "metadata": {},
   "source": [
    "## Upload survey from S3\n",
    "\n",
    "- Start `citric` client\n",
    "- Download file from S3\n",
    "- Import survey from S3 file\n",
    "- Display survey questions"
   ]
  },
  {
   "cell_type": "code",
   "execution_count": 6,
   "id": "5e7307f5-b872-4468-baaf-13eff990d345",
   "metadata": {},
   "outputs": [
    {
     "name": "stderr",
     "output_type": "stream",
     "text": [
      "2024-02-08 11:25:12,778 INFO Invoked RPC method get_session_key with ID 119194\n",
      "2024-02-08 11:25:13,035 INFO Invoked RPC method import_survey with ID 878109\n",
      "2024-02-08 11:25:13,108 INFO Invoked RPC method list_questions with ID 942978\n"
     ]
    },
    {
     "data": {
      "text/html": [
       "Text for <strong>first question</strong>This is a question help text.<hr>"
      ],
      "text/plain": [
       "<IPython.core.display.HTML object>"
      ]
     },
     "metadata": {},
     "output_type": "display_data"
    },
    {
     "data": {
      "text/html": [
       "Text for <strong>second question</strong><hr>"
      ],
      "text/plain": [
       "<IPython.core.display.HTML object>"
      ]
     },
     "metadata": {},
     "output_type": "display_data"
    },
    {
     "data": {
      "text/html": [
       "Please upload a text fileA file with <strong>.txt</strong><hr>"
      ],
      "text/plain": [
       "<IPython.core.display.HTML object>"
      ]
     },
     "metadata": {},
     "output_type": "display_data"
    },
    {
     "name": "stderr",
     "output_type": "stream",
     "text": [
      "2024-02-08 11:25:13,161 INFO Invoked RPC method release_session_key with ID 948663\n"
     ]
    }
   ],
   "source": [
    "# Use your own server's parameters here\n",
    "with citric.Client(\n",
    "    \"http://localhost:8001/index.php/admin/remotecontrol\",\n",
    "    \"iamadmin\",\n",
    "    \"secret\",\n",
    ") as client:\n",
    "    file_object = io.BytesIO()\n",
    "    s3.download_fileobj(\"testing\", \"survey.lss\", file_object)\n",
    "\n",
    "    file_object.seek(0)\n",
    "    survey_id = client.import_survey(file_object)\n",
    "    questions = client.list_questions(survey_id)\n",
    "\n",
    "    for question in questions:\n",
    "        display(HTML(question[\"question\"] + question[\"help\"] + \"<hr>\"))"
   ]
  },
  {
   "cell_type": "markdown",
   "id": "a09bf309-98d5-4fbc-897e-ebe4b0c78d01",
   "metadata": {},
   "source": [
    "## Cleanup\n",
    "\n",
    "- Delete bucket\n",
    "- Delete survey"
   ]
  },
  {
   "cell_type": "code",
   "execution_count": 7,
   "id": "0be47c6a-d219-4828-b92d-8f5f6763a4ca",
   "metadata": {},
   "outputs": [
    {
     "name": "stderr",
     "output_type": "stream",
     "text": [
      "2024-02-08 11:25:13,291 INFO Invoked RPC method get_session_key with ID 500759\n",
      "2024-02-08 11:25:13,379 INFO Invoked RPC method delete_survey with ID 409998\n",
      "2024-02-08 11:25:13,430 INFO Invoked RPC method release_session_key with ID 315195\n"
     ]
    }
   ],
   "source": [
    "s3.delete_object(Bucket=\"testing\", Key=\"survey.lss\")\n",
    "s3.delete_bucket(Bucket=\"testing\")\n",
    "\n",
    "with citric.Client(\n",
    "    \"http://localhost:8001/index.php/admin/remotecontrol\",\n",
    "    \"iamadmin\",\n",
    "    \"secret\",\n",
    ") as client:\n",
    "    client.delete_survey(survey_id)"
   ]
  }
 ],
 "metadata": {
  "kernelspec": {
   "display_name": "Python 3 (ipykernel)",
   "language": "python",
   "name": "python3"
  },
  "language_info": {
   "codemirror_mode": {
    "name": "ipython",
    "version": 3
   },
   "file_extension": ".py",
   "mimetype": "text/x-python",
   "name": "python",
   "nbconvert_exporter": "python",
   "pygments_lexer": "ipython3",
   "version": "3.11.8"
  }
 },
 "nbformat": 4,
 "nbformat_minor": 5
}
